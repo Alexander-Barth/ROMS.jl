{
 "cells": [
  {
   "cell_type": "markdown",
   "source": [
    "## Preparation of the input file for ROMS\n",
    "\n",
    "ROMS needs several input files in the NetCDF format, in paricular:\n",
    "\n",
    "* the model grid\n",
    "* the initial conditions\n",
    "* the boundary conditions\n",
    "* the atmospheric forcing fields\n",
    "\n",
    "Optionally\n",
    "* the climatology file\n",
    "* the field defining the nudging strength\n",
    "\n",
    "This script can use multiple threads if [julia was started with multi-threading](https://docs.julialang.org/en/v1/manual/multi-threading/)\n",
    "(option `-t`/`--threads` or the environement variable `JULIA_NUM_THREADS`)"
   ],
   "metadata": {}
  },
  {
   "outputs": [],
   "cell_type": "code",
   "source": [
    "using Dates\n",
    "using ROMS\n",
    "using Downloads: download"
   ],
   "metadata": {},
   "execution_count": null
  },
  {
   "cell_type": "markdown",
   "source": [
    "### The model bathymetry"
   ],
   "metadata": {}
  },
  {
   "outputs": [],
   "cell_type": "code",
   "source": [
    "#bath_name = expanduser(\"~/Data/Bathymetry/combined_emodnet_bathymetry.nc\")\n",
    "#bath_name = expanduser(\"~/Data/Bathymetry/gebco_30sec_1.nc\")\n",
    "# longitude from 5°E to 15°E and latitude from 40°N to 45°N\n",
    "bath_name = expanduser(\"~/Data/Bathymetry/gebco_30sec_1_ligurian_sea.nc\")\n",
    "\n",
    "if !isfile(bath_name)\n",
    "    mkpath(dirname(bath_name))\n",
    "    download(\"https://dox.ulg.ac.be/index.php/s/piwSaFP3nhM8jSD/download\",bath_name)\n",
    "end"
   ],
   "metadata": {},
   "execution_count": null
  },
  {
   "cell_type": "markdown",
   "source": [
    "The time range for the simulation:\n",
    "* `t0` start time\n",
    "* `t1` end time"
   ],
   "metadata": {}
  },
  {
   "outputs": [],
   "cell_type": "code",
   "source": [
    "t0 = DateTime(2023,1,1);\n",
    "t1 = DateTime(2023,1,4);"
   ],
   "metadata": {},
   "execution_count": null
  },
  {
   "cell_type": "markdown",
   "source": [
    "Define the bounding box the of the grid"
   ],
   "metadata": {}
  },
  {
   "outputs": [],
   "cell_type": "code",
   "source": [
    "# range of longitude\n",
    "xr = [7.6, 12.2];\n",
    "\n",
    "# range of latitude\n",
    "yr = [42, 44.5];\n",
    "\n",
    "# reduce bathymetry in x and y direction\n",
    "red = (4, 4)\n",
    "\n",
    "# maximum normalized topographic variations\n",
    "rmax = 0.4;\n",
    "\n",
    "# minimal depth\n",
    "hmin = 2; # m\n",
    "\n",
    "# name of folders and files\n",
    "modeldir = expanduser(\"~/ROMS-implementation-test\")\n",
    "\n",
    "# The model grid (`GRDNAME` in roms.in)\n",
    "grd_name = joinpath(modeldir,\"roms_grd_liguriansea.nc\")"
   ],
   "metadata": {},
   "execution_count": null
  },
  {
   "cell_type": "markdown",
   "source": [
    "model specific parameters"
   ],
   "metadata": {}
  },
  {
   "outputs": [],
   "cell_type": "code",
   "source": [
    "opt = (\n",
    "    Tcline = 50,   # m\n",
    "    theta_s = 5,   # surface refinement\n",
    "    theta_b = 0.4, # bottom refinement\n",
    "    nlevels = 32,  # number of vertical levels\n",
    "    Vtransform  = 2,\n",
    "    Vstretching = 4,\n",
    ")"
   ],
   "metadata": {},
   "execution_count": null
  },
  {
   "cell_type": "markdown",
   "source": [
    "setup dir"
   ],
   "metadata": {}
  },
  {
   "outputs": [],
   "cell_type": "code",
   "source": [
    "mkpath(modeldir);\n",
    "\n",
    "domain = ROMS.generate_grid(grd_name,bath_name,xr,yr,red,opt,hmin,rmax);\n",
    "\n",
    "@info \"domain size $(size(domain.mask))\""
   ],
   "metadata": {},
   "execution_count": null
  },
  {
   "cell_type": "markdown",
   "source": [
    "### The boundary and initial conditions"
   ],
   "metadata": {}
  },
  {
   "outputs": [],
   "cell_type": "code",
   "source": [
    "# GCM interpolated on model grid (`CLMNAME` in roms.in)\n",
    "clm_name =  joinpath(modeldir,\"roms_clm_2023.nc\")\n",
    "\n",
    "# initial conditions (`ININAME` in roms.in)\n",
    "ini_name =  joinpath(modeldir,\"roms_ini_2023.nc\")\n",
    "\n",
    "# boundary conditions (`BRYNAME` in roms.in)\n",
    "bry_name =  joinpath(modeldir,\"roms_bry_2023.nc\")\n",
    "\n",
    "# temporary directory of the OGCM data\n",
    "outdir = joinpath(modeldir,\"OGCM\")\n",
    "mkpath(outdir)"
   ],
   "metadata": {},
   "execution_count": null
  },
  {
   "cell_type": "markdown",
   "source": [
    "Locate the dataset at https://marine.copernicus.eu/"
   ],
   "metadata": {}
  },
  {
   "cell_type": "markdown",
   "source": [
    "Example:\n",
    "https://doi.org/10.25423/CMCC/MEDSEA_MULTIYEAR_PHY_006_004_E3R1"
   ],
   "metadata": {}
  },
  {
   "outputs": [],
   "cell_type": "code",
   "source": [
    "product_id = \"MEDSEA_MULTIYEAR_PHY_006_004\""
   ],
   "metadata": {},
   "execution_count": null
  },
  {
   "cell_type": "markdown",
   "source": [
    "mapping the variable (CF names) with the CMEMS `dataset_id`"
   ],
   "metadata": {}
  },
  {
   "outputs": [],
   "cell_type": "code",
   "source": [
    "mapping = Dict(\n",
    "    :sea_surface_height_above_geoid => \"med-cmcc-ssh-rean-d\",\n",
    "    :sea_water_potential_temperature => \"med-cmcc-tem-rean-d\",\n",
    "    :sea_water_salinity => \"med-cmcc-sal-rean-d\",\n",
    "    :eastward_sea_water_velocity => \"med-cmcc-cur-rean-d\",\n",
    "    :northward_sea_water_velocity => \"med-cmcc-cur-rean-d\",\n",
    ")\n",
    "\n",
    "dataset = ROMS.CMEMS_zarr(product_id,mapping,outdir, time_shift = 12*60*60)"
   ],
   "metadata": {},
   "execution_count": null
  },
  {
   "cell_type": "markdown",
   "source": [
    "Extent the time range by one extra day"
   ],
   "metadata": {}
  },
  {
   "outputs": [],
   "cell_type": "code",
   "source": [
    "tr = [t0-Dates.Day(1), t1+Dates.Day(1)]\n",
    "\n",
    "ROMS.interp_clim(domain,clm_name,dataset,tr)\n",
    "\n",
    "ROMS.extract_ic(domain,clm_name,ini_name, t0);\n",
    "ROMS.extract_bc(domain,clm_name,bry_name)"
   ],
   "metadata": {},
   "execution_count": null
  },
  {
   "cell_type": "markdown",
   "source": [
    "nudging coefficient (`NUDNAME`)"
   ],
   "metadata": {}
  },
  {
   "outputs": [],
   "cell_type": "code",
   "source": [
    "tscale = 7; # days\n",
    "alpha = 0.3;\n",
    "halo = 2;\n",
    "Niter = 50\n",
    "max_tscale = 5e5\n",
    "\n",
    "nud_name = joinpath(modeldir,\"roms_nud_$(tscale)_$(Niter).nc\")\n",
    "tracer_NudgeCoef = ROMS.nudgecoef(domain,nud_name,alpha,Niter,\n",
    "          halo,tscale; max_tscale = max_tscale);"
   ],
   "metadata": {},
   "execution_count": null
  },
  {
   "cell_type": "markdown",
   "source": [
    "### The atmospheric forcings"
   ],
   "metadata": {}
  },
  {
   "cell_type": "markdown",
   "source": [
    "Prepare atmospheric forcings (`FRCNAME`)"
   ],
   "metadata": {}
  },
  {
   "outputs": [],
   "cell_type": "code",
   "source": [
    "ecmwf_fname = expanduser(\"~/Data/Atmosphere/ecmwf_operational_archive_2022-12-01_2024-02-01.nc\")\n",
    "\n",
    "if !isfile(ecmwf_fname)\n",
    "    mkpath(dirname(ecmwf_fname))\n",
    "    download(\"https://data-assimilation.net/upload/OCEA0036/ecmwf_operational_archive_2022-12-01_2024-02-01.nc\",ecmwf_fname)\n",
    "end\n",
    "\n",
    "frc_name_prefix = joinpath(modeldir,\"roms_frc_2023_\")\n",
    "domain_name = \"Ligurian Sea Region\"\n",
    "Vnames = [\"sustr\",\"svstr\",\"shflux\",\"swflux\",\"swrad\",\"Uwind\",\"Vwind\",\n",
    "    \"lwrad\",\"lwrad_down\",\"latent\",\"sensible\",\"cloud\",\"rain\",\"Pair\",\"Tair\",\"Qair\"]\n",
    "\n",
    "# forcing_filenames corresponds to `FRCNAME` in roms.in\n",
    "forcing_filenames = ROMS.prepare_ecmwf(ecmwf_fname,Vnames,frc_name_prefix,domain_name)\n",
    "\n",
    "\n",
    "fn(name) = basename(name) # use relative file path\n",
    "# fn(name) = name         # use absolute file path\n",
    "\n",
    "println()\n",
    "println(\"The created netCDF files are in $modeldir.\");\n",
    "println(\"The following information has to be added to roms.in. A template of this file is\")\n",
    "println(\"provided in the directory User/External of your ROMS source code\")\n",
    "println(\"You can also use relative or absolute file names.\")\n",
    "println()\n",
    "println(\"! grid file \")\n",
    "println(\"     GRDNAME == $(fn(grd_name))\")\n",
    "println()\n",
    "println(\"! initial conditions\")\n",
    "println(\"     ININAME == $(fn(ini_name))\")\n",
    "println()\n",
    "println(\"! boundary conditions\")\n",
    "println(\"     NBCFILES == 1\")\n",
    "println(\"     BRYNAME == $(fn(bry_name))\")\n",
    "println()\n",
    "println(\"! climatology or large-scale circulatio model\")\n",
    "println(\"     NCLMFILES == 1\")\n",
    "println(\"     CLMNAME == $(fn(clm_name))\")\n",
    "println()\n",
    "println(\"! nudging coefficients file (optional)\")\n",
    "println(\"     NUDNAME == $(fn(nud_name))\")\n",
    "println()\n",
    "println(\"! forcing files\")\n",
    "println(\"     NFFILES == $(length(Vnames))\")\n",
    "\n",
    "for i in 1:length(Vnames)\n",
    "    if i == 1\n",
    "        print(\"     FRCNAME == \")\n",
    "    else\n",
    "        print(\"                \")\n",
    "    end\n",
    "    print(\"$(fn(frc_name_prefix))$(Vnames[i]).nc\")\n",
    "    if i < length(Vnames)\n",
    "        print(\" \\\\\")\n",
    "    end\n",
    "    println()\n",
    "end"
   ],
   "metadata": {},
   "execution_count": null
  },
  {
   "cell_type": "markdown",
   "source": [
    "---\n",
    "\n",
    "*This notebook was generated using [Literate.jl](https://github.com/fredrikekre/Literate.jl).*"
   ],
   "metadata": {}
  }
 ],
 "nbformat_minor": 3,
 "metadata": {
  "language_info": {
   "file_extension": ".jl",
   "mimetype": "application/julia",
   "name": "julia",
   "version": "1.11.2"
  },
  "kernelspec": {
   "name": "julia-1.11",
   "display_name": "Julia 1.11.2",
   "language": "julia"
  }
 },
 "nbformat": 4
}
