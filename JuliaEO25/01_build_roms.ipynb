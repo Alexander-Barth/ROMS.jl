{
 "cells": [
  {
   "cell_type": "markdown",
   "source": [
    "# Compilation of ROMS\n",
    "\n",
    "\n",
    "The Regional Ocean Modeling System (ROMS) is a free-surface, terrain-following,\n",
    "primitive equations ocean model widely used by the scientific community for\n",
    "a diverse range of applications.\n",
    "\n",
    "This notebook should be run on [https://notebook-gher.uliege.be/](https://notebook-gher.uliege.be/)\n",
    "(password are provided to the JuliaEO 2025 participants)\n",
    "or a Linux/UNIX environement after installing the [required software](https://alexander-barth.github.io/ROMS.jl/JuliaEO25/#Required-software).\n",
    "\n",
    "## Getting the source code\n",
    "\n",
    "The source code of ROMS is distributed via [GitHub](https://github.com/myroms/roms).\n",
    "We use version 4.1 of the ROMS code.\n",
    "The code is downloaded to the directory `~/src/roms`:"
   ],
   "metadata": {}
  },
  {
   "outputs": [],
   "cell_type": "code",
   "source": [
    "using ROMS\n",
    "\n",
    "romsdir = expanduser(\"~/src/roms\")\n",
    "if !isdir(romsdir)\n",
    "    mkpath(dirname(romsdir))\n",
    "    cd(dirname(romsdir)) do\n",
    "        run(`git clone https://github.com/myroms/roms`)\n",
    "        cd(\"roms\") do\n",
    "            run(`git checkout roms-4.1`)\n",
    "        end\n",
    "    end\n",
    "end"
   ],
   "metadata": {},
   "execution_count": null
  },
  {
   "cell_type": "markdown",
   "source": [
    "The previous julia commands, are essentially the same as the following shell commands:\n",
    "```bash\n",
    "mkdir ~/src/\n",
    "cd ~/src/\n",
    "git clone https://github.com/myroms/roms\n",
    "cd roms\n",
    "git checkout roms-4.1\n",
    "```"
   ],
   "metadata": {}
  },
  {
   "cell_type": "markdown",
   "source": [
    "The output of the last command will tell you that `You are in 'detached HEAD' state.` (this is not an error)."
   ],
   "metadata": {}
  },
  {
   "cell_type": "markdown",
   "source": [
    "All files that are specific to a given implementation of ROMS will be\n",
    "saved in a different directory `modeldir`:"
   ],
   "metadata": {}
  },
  {
   "outputs": [],
   "cell_type": "code",
   "source": [
    "modeldir = expanduser(\"~/ROMS-implementation-test\")\n",
    "mkpath(modeldir);"
   ],
   "metadata": {},
   "execution_count": null
  },
  {
   "cell_type": "markdown",
   "source": [
    "## The header file"
   ],
   "metadata": {}
  },
  {
   "cell_type": "markdown",
   "source": [
    "Before we can compile ROMS we need to\n",
    "* activate diffent terms of the momentum equations\n",
    "* specify the schemes uses for advection, horizontal mixing,\n",
    "  type equation of state, ...\n",
    "\n",
    "The header file controls the compilation of the ROMS model by telling the\n",
    "compiler which part of the code needs to be compiled. If you modify this file,\n",
    "ROMS need to be recompiled.\n",
    "\n",
    "This header file should be named `yourdomain.h` (e.g. `liguriansea.h` for the Ligurian Sea)\n",
    "and created in the directory `ROMS-implementation-test`.\n",
    "\n",
    "Do not change the two first lines and the last line of the following cell.\n",
    "When you execute the cell, the header file with the specified content is\n",
    "created."
   ],
   "metadata": {}
  },
  {
   "outputs": [],
   "cell_type": "code",
   "source": [
    "header_file = joinpath(modeldir,\"liguriansea.h\")\n",
    "write(header_file,\"\"\"\n",
    "#define UV_ADV                    /* turn ON advection terms */\n",
    "#define UV_COR                    /* turn ON Coriolis term */\n",
    "#define DJ_GRADPS                 /* Splines density  Jacobian (Shchepetkin, 2000) */\n",
    "#define NONLIN_EOS                /* define if using nonlinear equation of state */\n",
    "#define SALINITY                  /* define if using salinity */\n",
    "#define SOLVE3D                   /* define if solving 3D primitive equations */\n",
    "#define MASKING                   /* define if there is land in the domain */\n",
    "#define TS_U3HADVECTION           /* Third-order upstream horizontal advection of tracers */\n",
    "#define TS_C4VADVECTION           /* Fourth-order centered vertical advection of tracers */\n",
    "#define TS_DIF2                   /* use to turn ON or OFF harmonic horizontal mixing  */\n",
    "#define MIX_S_UV                  /* mixing along constant S-surfaces */\n",
    "#define UV_VIS2                   /* turn ON Laplacian horizontal mixing */\n",
    "#define AVERAGES\n",
    "#define UV_QDRAG\n",
    "#define MIX_S_TS\n",
    "\n",
    "#define  MY25_MIXING\n",
    "#ifdef MY25_MIXING\n",
    "#define N2S2_HORAVG\n",
    "#define KANTHA_CLAYSON\n",
    "#endif\n",
    "\n",
    "#define ANA_BSFLUX                /* analytical bottom salinity flux */\n",
    "#define ANA_BTFLUX                /* analytical bottom temperature flux */\n",
    "#define ANA_SSFLUX\n",
    "\n",
    "#define BULK_FLUXES               /* turn ON bulk fluxes computation */\n",
    "#define CLOUDS\n",
    "#define LONGWAVE\n",
    "#define SOLAR_SOURCE\n",
    "\"\"\");"
   ],
   "metadata": {},
   "execution_count": null
  },
  {
   "cell_type": "markdown",
   "source": [
    "The [ROMS wiki](https://www.myroms.org/wiki/Documentation_Portal) give more information about the [compiler different options](https://www.myroms.org/wiki/Options)."
   ],
   "metadata": {}
  },
  {
   "cell_type": "markdown",
   "source": [
    "## Compiling the model code"
   ],
   "metadata": {}
  },
  {
   "cell_type": "markdown",
   "source": [
    "ROMS can use the MPI ([Message Passing Interface](https://en.wikipedia.org/wiki/Message_Passing_Interface)) or OpenMP ([Open Multi-Processing](https://en.wikipedia.org/wiki/OpenMP)) for parallelization (but not both at the same time):"
   ],
   "metadata": {}
  },
  {
   "outputs": [],
   "cell_type": "code",
   "source": [
    "use_mpi = false;\n",
    "use_openmp = true;\n",
    "# or\n",
    "##use_mpi = true;\n",
    "##use_openmp = false;"
   ],
   "metadata": {},
   "execution_count": null
  },
  {
   "cell_type": "markdown",
   "source": [
    "ROMS can either be build (i.e. compiled) the shell script `build_roms.sh` or\n",
    "with the julia script `ROMS.build`.\n",
    "\n",
    "`roms_application` is a descriptive name of the domain or the particular application\n",
    "that the use can choose. We compile ROMS with the [GNU Fortran](https://en.wikipedia.org/wiki/GNU_Fortran) compiler using 8 jobs for compilation."
   ],
   "metadata": {}
  },
  {
   "outputs": [],
   "cell_type": "code",
   "source": [
    "roms_application = \"LigurianSea\"\n",
    "fortran_compiler = \"gfortran\"\n",
    "jobs = 2\n",
    "logfile = \"roms_build.log\"\n",
    "\n",
    "ROMS.build(romsdir,roms_application,modeldir;\n",
    "           stdout = logfile,\n",
    "           jobs,\n",
    "           fortran_compiler,\n",
    "           use_openmp,\n",
    "           use_mpi)"
   ],
   "metadata": {},
   "execution_count": null
  },
  {
   "cell_type": "markdown",
   "source": [
    "The first and last 5 lines of this log file:"
   ],
   "metadata": {}
  },
  {
   "outputs": [],
   "cell_type": "code",
   "source": [
    "println.(collect(eachline(logfile))[1:5]);\n",
    "println(\"...\")\n",
    "println.(collect(eachline(logfile))[end-5:end]);"
   ],
   "metadata": {},
   "execution_count": null
  },
  {
   "cell_type": "markdown",
   "source": [
    "---\n",
    "\n",
    "*This notebook was generated using [Literate.jl](https://github.com/fredrikekre/Literate.jl).*"
   ],
   "metadata": {}
  }
 ],
 "nbformat_minor": 3,
 "metadata": {
  "language_info": {
   "file_extension": ".jl",
   "mimetype": "application/julia",
   "name": "julia",
   "version": "1.11.2"
  },
  "kernelspec": {
   "name": "julia-1.11",
   "display_name": "Julia 1.11.2",
   "language": "julia"
  }
 },
 "nbformat": 4
}
