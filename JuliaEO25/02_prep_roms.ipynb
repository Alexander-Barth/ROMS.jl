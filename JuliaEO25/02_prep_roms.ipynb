{
 "cells": [
  {
   "cell_type": "markdown",
   "source": [
    "# Preparation of the input files for ROMS\n",
    "\n",
    "\n",
    "ROMS needs several input files in the NetCDF format, in paricular:\n",
    "\n",
    "* the model grid\n",
    "* the initial conditions\n",
    "* the boundary conditions\n",
    "* the atmospheric forcing fields\n",
    "\n",
    "Optionally\n",
    "* the climatology file\n",
    "* the field defining the nudging strength\n",
    "\n",
    "\n",
    "This script can use multiple threads if [julia was started with multi-threading](https://docs.julialang.org/en/v1/manual/multi-threading/)\n",
    "(option `-t`/`--threads` or the environement variable `JULIA_NUM_THREADS`)"
   ],
   "metadata": {}
  },
  {
   "outputs": [],
   "cell_type": "code",
   "source": [
    "using Dates\n",
    "using ROMS\n",
    "using ROMS: whenopen\n",
    "using Downloads: download"
   ],
   "metadata": {},
   "execution_count": null
  },
  {
   "cell_type": "markdown",
   "source": [
    "## The model bathymetry"
   ],
   "metadata": {}
  },
  {
   "cell_type": "markdown",
   "source": [
    "While the full [GEBCO bathymetry](https://dox.ulg.ac.be/index.php/s/iEh7ompNdj8AN2p/download)\n",
    "is relatively large, where use here a subset of the global bathymetry to\n",
    "reduce the downloading time.\n",
    "(longitude from 5°E to 15°E and latitude from 40°N to 45°N)"
   ],
   "metadata": {}
  },
  {
   "outputs": [],
   "cell_type": "code",
   "source": [
    "bath_name = expanduser(\"~/Data/Bathymetry/gebco_30sec_1_ligurian_sea.nc\")\n",
    "\n",
    "if !isfile(bath_name)\n",
    "    mkpath(dirname(bath_name))\n",
    "    download(\"https://dox.ulg.ac.be/index.php/s/piwSaFP3nhM8jSD/download\",bath_name)\n",
    "end;"
   ],
   "metadata": {},
   "execution_count": null
  },
  {
   "cell_type": "markdown",
   "source": [
    "The time range for the simulation:\n",
    "* `t0` start time\n",
    "* `t1` end time"
   ],
   "metadata": {}
  },
  {
   "outputs": [],
   "cell_type": "code",
   "source": [
    "t0 = DateTime(2023,1,1);\n",
    "t1 = DateTime(2023,1,4);"
   ],
   "metadata": {},
   "execution_count": null
  },
  {
   "cell_type": "markdown",
   "source": [
    "Define the bounding box the of the grid"
   ],
   "metadata": {}
  },
  {
   "outputs": [],
   "cell_type": "code",
   "source": [
    "# range of longitude\n",
    "xr = [7.6, 12.2];\n",
    "\n",
    "# range of latitude\n",
    "yr = [42, 44.5];\n",
    "\n",
    "# reduce bathymetry in x and y direction\n",
    "red = (4, 4)\n",
    "\n",
    "# maximum normalized topographic variations\n",
    "rmax = 0.4;\n",
    "\n",
    "# minimal depth\n",
    "hmin = 2; # m\n",
    "\n",
    "# name of folders and files\n",
    "modeldir = expanduser(\"~/ROMS-implementation-test\")\n",
    "\n",
    "# The model grid (`GRDNAME` in roms.in)\n",
    "grd_name = joinpath(modeldir,\"roms_grd_liguriansea.nc\");"
   ],
   "metadata": {},
   "execution_count": null
  },
  {
   "cell_type": "markdown",
   "source": [
    "Some parameters specific to the vertical coordinate system"
   ],
   "metadata": {}
  },
  {
   "outputs": [],
   "cell_type": "code",
   "source": [
    "opt = (\n",
    "    Tcline = 50,   # m\n",
    "    theta_s = 5,   # surface refinement\n",
    "    theta_b = 0.4, # bottom refinement\n",
    "    nlevels = 32,  # number of vertical levels\n",
    "    Vtransform  = 2,\n",
    "    Vstretching = 4,\n",
    ")"
   ],
   "metadata": {},
   "execution_count": null
  },
  {
   "cell_type": "markdown",
   "source": [
    "Create the model directory and generate the model grid"
   ],
   "metadata": {}
  },
  {
   "outputs": [],
   "cell_type": "code",
   "source": [
    "mkpath(modeldir);\n",
    "\n",
    "domain = ROMS.generate_grid(grd_name,bath_name,xr,yr,red,opt,hmin,rmax);\n",
    "\n",
    "@info \"domain size $(size(domain.mask))\""
   ],
   "metadata": {},
   "execution_count": null
  },
  {
   "cell_type": "markdown",
   "source": [
    "## The boundary and initial conditions"
   ],
   "metadata": {}
  },
  {
   "outputs": [],
   "cell_type": "code",
   "source": [
    "# GCM interpolated on model grid (`CLMNAME` in roms.in)\n",
    "clm_name =  joinpath(modeldir,\"roms_clm_2023.nc\")\n",
    "\n",
    "# initial conditions (`ININAME` in roms.in)\n",
    "ini_name =  joinpath(modeldir,\"roms_ini_2023.nc\")\n",
    "\n",
    "# boundary conditions (`BRYNAME` in roms.in)\n",
    "bry_name =  joinpath(modeldir,\"roms_bry_2023.nc\")\n",
    "\n",
    "# temporary directory of the OGCM data\n",
    "outdir = joinpath(modeldir,\"OGCM\")\n",
    "mkpath(outdir)"
   ],
   "metadata": {},
   "execution_count": null
  },
  {
   "cell_type": "markdown",
   "source": [
    "* For CMEMS boundary conditions [https://marine.copernicus.eu/](https://marine.copernicus.eu/):\n",
    "   * You may need to adapt the CMEMS `product_id` and `mapping` (if the model domain is outside of the Mediterranean Sea)\n",
    "   * Data will be downloaded and saved in NetCDF by \"chunks\" of 60 days in the folder `OGCM` under the content of the variable `basedir`\n",
    "   * You need to remove the files in this directory if you rerun the script with a different time range.\n",
    "\n",
    "Here we use the following dataset:\n",
    "[https://doi.org/10.25423/CMCC/MEDSEA_MULTIYEAR_PHY_006_004_E3R1](https://doi.org/10.25423/CMCC/MEDSEA_MULTIYEAR_PHY_006_004_E3R1)"
   ],
   "metadata": {}
  },
  {
   "outputs": [],
   "cell_type": "code",
   "source": [
    "product_id = \"MEDSEA_MULTIYEAR_PHY_006_004\""
   ],
   "metadata": {},
   "execution_count": null
  },
  {
   "cell_type": "markdown",
   "source": [
    "mapping the variable (CF names) with the CMEMS `dataset_id`"
   ],
   "metadata": {}
  },
  {
   "outputs": [],
   "cell_type": "code",
   "source": [
    "mapping = Dict(\n",
    "    :sea_surface_height_above_geoid => \"med-cmcc-ssh-rean-d\",\n",
    "    :sea_water_potential_temperature => \"med-cmcc-tem-rean-d\",\n",
    "    :sea_water_salinity => \"med-cmcc-sal-rean-d\",\n",
    "    :eastward_sea_water_velocity => \"med-cmcc-cur-rean-d\",\n",
    "    :northward_sea_water_velocity => \"med-cmcc-cur-rean-d\",\n",
    ")\n",
    "\n",
    "dataset = ROMS.CMEMS_zarr(product_id,mapping,outdir, time_shift = 12*60*60)"
   ],
   "metadata": {},
   "execution_count": null
  },
  {
   "cell_type": "markdown",
   "source": [
    "Extent the time range by one extra day"
   ],
   "metadata": {}
  },
  {
   "outputs": [],
   "cell_type": "code",
   "source": [
    "ROMS.interp_clim(domain,clm_name,dataset,[t0-Dates.Day(1), t1+Dates.Day(1)])\n",
    "\n",
    "ROMS.extract_ic(domain,clm_name,ini_name, t0);\n",
    "ROMS.extract_bc(domain,clm_name,bry_name)"
   ],
   "metadata": {},
   "execution_count": null
  },
  {
   "cell_type": "markdown",
   "source": [
    "Nudging coefficients (`NUDNAME`)"
   ],
   "metadata": {}
  },
  {
   "outputs": [],
   "cell_type": "code",
   "source": [
    "tscale = 7; # days\n",
    "alpha = 0.3;\n",
    "halo = 2;\n",
    "Niter = 50\n",
    "max_tscale = 5e5\n",
    "\n",
    "nud_name = joinpath(modeldir,\"roms_nud_$(tscale)_$(Niter).nc\")\n",
    "tracer_NudgeCoef = ROMS.nudgecoef(domain,nud_name,alpha,Niter,\n",
    "          halo,tscale; max_tscale = max_tscale);"
   ],
   "metadata": {},
   "execution_count": null
  },
  {
   "cell_type": "markdown",
   "source": [
    "## The atmospheric forcings"
   ],
   "metadata": {}
  },
  {
   "cell_type": "markdown",
   "source": [
    "Prepare atmospheric forcings (`FRCNAME`)"
   ],
   "metadata": {}
  },
  {
   "outputs": [],
   "cell_type": "code",
   "source": [
    "ecmwf_fname = expanduser(\"~/Data/Atmosphere/ecmwf_operational_archive_2022-12-01_2024-02-01.nc\")\n",
    "\n",
    "if !isfile(ecmwf_fname)\n",
    "    mkpath(dirname(ecmwf_fname))\n",
    "    download(\"https://data-assimilation.net/upload/OCEA0036/ecmwf_operational_archive_2022-12-01_2024-02-01.nc\",ecmwf_fname)\n",
    "end\n",
    "\n",
    "frc_name_prefix = joinpath(modeldir,\"roms_frc_2023_\")\n",
    "domain_name = \"Ligurian Sea Region\"\n",
    "Vnames = [\"sustr\",\"svstr\",\"shflux\",\"swflux\",\"swrad\",\"Uwind\",\"Vwind\",\n",
    "    \"lwrad\",\"lwrad_down\",\"latent\",\"sensible\",\"cloud\",\"rain\",\"Pair\",\"Tair\",\"Qair\"]\n",
    "\n",
    "# forcing_filenames corresponds to `FRCNAME` in roms.in\n",
    "forcing_filenames = ROMS.prepare_ecmwf(ecmwf_fname,Vnames,frc_name_prefix,domain_name)"
   ],
   "metadata": {},
   "execution_count": null
  },
  {
   "cell_type": "markdown",
   "source": [
    "We print a list of all generated files."
   ],
   "metadata": {}
  },
  {
   "outputs": [],
   "cell_type": "code",
   "source": [
    "fn(name) = basename(name) # use relative file path\n",
    "# fn(name) = name         # use absolute file path\n",
    "\n",
    "println()\n",
    "println(\"The created netCDF files are in $modeldir.\");\n",
    "println(\"The following information has to be added to roms.in. A template of this file is\")\n",
    "println(\"provided in the directory User/External of your ROMS source code\")\n",
    "println(\"You can also use relative or absolute file names.\")\n",
    "println()\n",
    "println(\"! grid file \")\n",
    "println(\"     GRDNAME == $(fn(grd_name))\")\n",
    "println()\n",
    "println(\"! initial conditions\")\n",
    "println(\"     ININAME == $(fn(ini_name))\")\n",
    "println()\n",
    "println(\"! boundary conditions\")\n",
    "println(\"     NBCFILES == 1\")\n",
    "println(\"     BRYNAME == $(fn(bry_name))\")\n",
    "println()\n",
    "println(\"! climatology or large-scale circulatio model\")\n",
    "println(\"     NCLMFILES == 1\")\n",
    "println(\"     CLMNAME == $(fn(clm_name))\")\n",
    "println()\n",
    "println(\"! nudging coefficients file (optional)\")\n",
    "println(\"     NUDNAME == $(fn(nud_name))\")\n",
    "println()\n",
    "println(\"! forcing files\")\n",
    "println(\"     NFFILES == $(length(Vnames))\")\n",
    "\n",
    "for i in 1:length(Vnames)\n",
    "    if i == 1\n",
    "        print(\"     FRCNAME == \")\n",
    "    else\n",
    "        print(\"                \")\n",
    "    end\n",
    "    print(\"$(fn(frc_name_prefix))$(Vnames[i]).nc\")\n",
    "    if i < length(Vnames)\n",
    "        print(\" \\\\\")\n",
    "    end\n",
    "    println()\n",
    "end"
   ],
   "metadata": {},
   "execution_count": null
  },
  {
   "cell_type": "markdown",
   "source": [
    "Check the resulting files such as bathymetry, initial conditions,\n",
    "boundary conditions, interpolated model (`clm_name` file) and visualizing them."
   ],
   "metadata": {}
  },
  {
   "cell_type": "markdown",
   "source": [
    "## Configuration files\n",
    "\n",
    "Beside the created NetCDF files, ROMS needs two configuration files\n",
    "(`roms.in` and `varinfo.yaml`)"
   ],
   "metadata": {}
  },
  {
   "outputs": [],
   "cell_type": "code",
   "source": [
    "romsdir = expanduser(\"~/src/roms\")\n",
    "modeldir = expanduser(\"~/ROMS-implementation-test\")\n",
    "simulationdir = joinpath(modeldir,\"Simulation1\")\n",
    "mkpath(simulationdir)\n",
    "\n",
    "frc_name = joinpath.(modeldir,sort(filter(startswith(\"roms_frc\"),readdir(modeldir))));"
   ],
   "metadata": {},
   "execution_count": null
  },
  {
   "cell_type": "markdown",
   "source": [
    "Copy `varinfo.yaml` from `~/src/roms/ROMS/External/varinfo.yaml` in your\n",
    "directory for your simulation (e.g. `ROMS-implementation-test`).\n",
    "This file does not need to be changed."
   ],
   "metadata": {}
  },
  {
   "outputs": [],
   "cell_type": "code",
   "source": [
    "var_name_template = joinpath(romsdir,\"ROMS\",\"External\",\"varinfo.yaml\")\n",
    "var_name = joinpath(simulationdir,\"varinfo.yaml\")\n",
    "cp(var_name_template,var_name; force=true);"
   ],
   "metadata": {},
   "execution_count": null
  },
  {
   "cell_type": "markdown",
   "source": [
    "Load the ROMS grid"
   ],
   "metadata": {}
  },
  {
   "outputs": [],
   "cell_type": "code",
   "source": [
    "domain = ROMS.Grid(grd_name);"
   ],
   "metadata": {},
   "execution_count": null
  },
  {
   "cell_type": "markdown",
   "source": [
    "We use `roms.in` from `~/src/roms/User/External/roms.in` as a template"
   ],
   "metadata": {}
  },
  {
   "outputs": [],
   "cell_type": "code",
   "source": [
    "intemplate = joinpath(romsdir,\"User\",\"External\",\"roms.in\")\n",
    "infile = joinpath(simulationdir,\"roms.in\");"
   ],
   "metadata": {},
   "execution_count": null
  },
  {
   "cell_type": "markdown",
   "source": [
    "This file is typicall edited with a text editor (when editing this file, do not use \"tabs\".).\n",
    "Check the glossary at the end of this file for the meaning of the keys that we will change.\n",
    "\n",
    "Here we edit the file programmatically. These are the changes that are done\n",
    "in the following:\n",
    "\n",
    " * adapt `MyAppCPP` and change it to `LIGURIANSEA`\n",
    "\n",
    " * adapt file names `VARNAME`, `GRDNAME`, `ININAME`, `BRYNAME`, `CLMNAME`, `FRCNAME` and `NFFILES` (`varinfo.yaml`, `LS2v.nc`, `ic2019.nc`, `bc2019.nc`, `clim2019.nc`, `liguriansea2019_*.nc`, `*` means the different variables). `NFFILES` is the number of forcing files.\n",
    "\n",
    " * change `Lm`, `Mm` and `N` based on the dimensions of your grid (make sure to read the glossary for these variable in `roms.in`)\n",
    "\n",
    " * read the desciption about \"lateral boundary conditions\" and adapt boundaries `LBC`:\n",
    "    * use closed (`Clo`) for boundaries without sea-point\n",
    "    * for open boundaries:\n",
    "       * free-surface: Chapman implicit (`Cha`)\n",
    "       * 2D U/V-momentum: Flather (`Fla`)\n",
    "       * 3D U/V-momentum, temperature, salinity: Radiation with nudging (`RadNud`)\n",
    "       * mixing TKE: Radiation (`Rad`)\n",
    "\n",
    " * set the starting time and time reference\n",
    "```\n",
    "DSTART = ...\n",
    "TIME_REF =  18581117\n",
    "```\n",
    "\n",
    "where `DSTART` is here the number of days since 1858-11-17 or November 17, 1858 (see also [modified Julia day](https://en.wikipedia.org/wiki/Julian_day#Variants)) of the start of the model simulation (`t0` in the julia script). For instance the number of days since 2014-01-01 (year-month-day) can be computed by of following commands in Julia:\n",
    "\n",
    "```julia\n",
    "using Dates\n",
    "Date(2020,1,1) - Date(1858,11,17)\n",
    "```\n",
    "\n",
    "The inverse operation can be done with:\n",
    "\n",
    "```julia\n",
    "using Dates\n",
    "Date(1858,11,17) + Day(58849)\n",
    "```\n",
    "\n",
    "You can use `DateTime` if you want to specify hour, minutes or seconds.\n",
    "\n",
    "* Adapt the length of a time step `DT` (in seconds) and number of time steps `NTIMES`\n",
    "* `DT` can be 300 seconds\n",
    "* Initially we choose:\n",
    "    * `NTIMES` -> number of time step corresponding to 2 days (e.g. `2*24*60*60/DT` where `DT` is the time steps in seconds)\n",
    "    * `NHIS`, `NAVG`-> number of time steps corresponding to 1 hour\n",
    "    * `NRST` -> number of time steps correspond to 1 hour"
   ],
   "metadata": {}
  },
  {
   "outputs": [],
   "cell_type": "code",
   "source": [
    "# time step (seconds)\n",
    "DT = 300.\n",
    "# output frequency of ROMS in time steps\n",
    "NHIS = round(Int,24*60*60 / DT)\n",
    "NRST = NAVG = NHIS\n",
    "\n",
    "# number of time steps\n",
    "t0 = DateTime(2023,1,1);\n",
    "t1 = DateTime(2023,1,4);\n",
    "NTIMES = floor(Int,Dates.value(t1-t0) / (DT * 1000))"
   ],
   "metadata": {},
   "execution_count": null
  },
  {
   "cell_type": "markdown",
   "source": [
    "How many CPU cores does your machine have? You can use the command `top` in a shell terminal followed by `1`.\n",
    "The number of CPU cores should be `NtileI` * `NtileJ`.\n",
    "The parameters `NtileI` and `NtileJ` are defined in `roms.in`."
   ],
   "metadata": {}
  },
  {
   "outputs": [],
   "cell_type": "code",
   "source": [
    "NtileI = 1\n",
    "NtileJ = 1\n",
    "\n",
    "substitutions = Dict(\n",
    "    \"TITLE\" => \"My test\",\n",
    "    \"NtileI\" => NtileI,\n",
    "    \"NtileJ\" => NtileJ,\n",
    "    \"TIME_REF\" => \"18581117\",\n",
    "    \"VARNAME\" => var_name,\n",
    "    \"GRDNAME\" => grd_name,\n",
    "    \"ININAME\" => ini_name,\n",
    "    \"BRYNAME\" => bry_name,\n",
    "    \"CLMNAME\" => clm_name,\n",
    "    \"NFFILES\" => length(frc_name),\n",
    "    \"FRCNAME\" => join(frc_name,\"  \\\\\\n       \"),\n",
    "    \"Vtransform\" => domain.Vtransform,\n",
    "    \"Vstretching\" => domain.Vstretching,\n",
    "    \"THETA_S\" => domain.theta_s,\n",
    "    \"THETA_B\" => domain.theta_b,\n",
    "    \"TCLINE\" => domain.Tcline,\n",
    "    \"Lm\" => size(domain.h,1)-2,\n",
    "    \"Mm\" => size(domain.h,2)-2,\n",
    "    \"N\" => domain.nlevels,\n",
    "    \"LBC(isFsur)\" => whenopen(domain,\"Cha\"),\n",
    "    \"LBC(isUbar)\" => whenopen(domain,\"Fla\"),\n",
    "    \"LBC(isVbar)\" => whenopen(domain,\"Fla\"),\n",
    "    \"LBC(isUvel)\" => whenopen(domain,\"RadNud\"),\n",
    "    \"LBC(isVvel)\" => whenopen(domain,\"RadNud\"),\n",
    "    \"LBC(isMtke)\" => whenopen(domain,\"Rad\"),\n",
    "    \"LBC(isTvar)\" => whenopen(domain,\"RadNud\") * \" \\\\\\n\" * whenopen(domain,\"RadNud\"),\n",
    "    \"DT\" => DT,\n",
    "    \"NHIS\" => NHIS,\n",
    "    \"NAVG\" => NAVG,\n",
    "    \"NRST\" => NRST,\n",
    "    \"NTIMES\" => NTIMES,\n",
    "    \"NUDNAME\" => nud_name,\n",
    "    \"TNUDG\" => \"10.0d0 10.0d0\",\n",
    "    \"LtracerCLM\" => \"T T\",\n",
    "    \"LnudgeTCLM\" => \"T T\",\n",
    "    \"OBCFAC\" => 10.0,\n",
    ")\n",
    "\n",
    "ROMS.infilereplace(intemplate,infile,substitutions)"
   ],
   "metadata": {},
   "execution_count": null
  },
  {
   "cell_type": "markdown",
   "source": [
    "Always make make sure that `THETA_S`, `THETA_B`, `TCLINE`, `Vtransform` and `Vstretching` match the values in your julia script.\n",
    "We can review the changes with the shell command:\n",
    "```bash\n",
    "diff -u --color ~/src/roms/User/External/roms.in roms.in\n",
    "```"
   ],
   "metadata": {}
  },
  {
   "cell_type": "markdown",
   "source": [
    "---\n",
    "\n",
    "*This notebook was generated using [Literate.jl](https://github.com/fredrikekre/Literate.jl).*"
   ],
   "metadata": {}
  }
 ],
 "nbformat_minor": 3,
 "metadata": {
  "language_info": {
   "file_extension": ".jl",
   "mimetype": "application/julia",
   "name": "julia",
   "version": "1.11.2"
  },
  "kernelspec": {
   "name": "julia-1.11",
   "display_name": "Julia 1.11.2",
   "language": "julia"
  }
 },
 "nbformat": 4
}
