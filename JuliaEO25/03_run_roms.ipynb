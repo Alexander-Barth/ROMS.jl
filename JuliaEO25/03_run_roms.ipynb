{
 "cells": [
  {
   "cell_type": "markdown",
   "source": [
    "# Run ROMS\n",
    "\n",
    "\n",
    "Run ROMS with 4 CPUs splitting the domain in 2 by 2 tiles"
   ],
   "metadata": {}
  },
  {
   "outputs": [],
   "cell_type": "code",
   "source": [
    "using Dates\n",
    "using ROMS"
   ],
   "metadata": {},
   "execution_count": null
  },
  {
   "cell_type": "markdown",
   "source": [
    "Now we are ready to run the model:"
   ],
   "metadata": {}
  },
  {
   "outputs": [],
   "cell_type": "code",
   "source": [
    "modeldir = expanduser(\"~/ROMS-implementation-test\")\n",
    "simulationdir = joinpath(modeldir,\"Simulation1\");"
   ],
   "metadata": {},
   "execution_count": null
  },
  {
   "cell_type": "markdown",
   "source": [
    "## Run ROMS from julia\n",
    "\n",
    "`NtileI` and `NtileJ` must match the values in the\n",
    "roms.in file."
   ],
   "metadata": {}
  },
  {
   "outputs": [],
   "cell_type": "code",
   "source": [
    "NtileI = 1\n",
    "NtileJ = 1\n",
    "np = NtileI*NtileJ\n",
    "\n",
    "use_openmp = true\n",
    "logfile = \"roms.out\"\n",
    "\n",
    "cd(simulationdir) do\n",
    "    withenv(\"OPAL_PREFIX\" => nothing) do\n",
    "        ROMS.run_model(modeldir,\"roms.in\"; use_openmp, np, stdout = logfile)\n",
    "    end\n",
    "end;"
   ],
   "metadata": {},
   "execution_count": null
  },
  {
   "cell_type": "markdown",
   "source": [
    "If you run into a problem, please first read the error message\n",
    "carefully to get some indicaton what is wrong.\n",
    "\n",
    "The ROMS outputs are the files `roms_his.nc` and `roms_avg.nc`."
   ],
   "metadata": {}
  },
  {
   "cell_type": "markdown",
   "source": [
    "Note that the usual method to run ROMS is from the command line.\n",
    "\n",
    "## Run ROMS in serial\n",
    "\n",
    "For example the serial binary `romsS` (without MPI and OpenMP) can be run as:\n",
    "\n",
    "```bash\n",
    "./romsS < roms.in | tee roms.out\n",
    "```\n",
    "\n",
    "\n",
    "## Run ROMS in parallel\n",
    "\n",
    "Make sure to activate MPI or OpenMP and recompile ROMS if necessary\n",
    "With MPI:\n",
    "\n",
    "```bash\n",
    "mpirun -np 4 ./romsM  roms.in | tee roms.out\n",
    "```\n",
    "\n",
    "where 4 is the number of cores to use. To use 4 CPUs, you need to set `NtileI` to 2 and `NtileJ` to 2.\n",
    "\n",
    "With OpenMP:\n",
    "\n",
    "```bash\n",
    "OMP_NUM_THREADS=4 ./romsO < roms.out | tee roms.out\n",
    "```\n",
    "\n",
    "With the command `tee` the normal screen output will be place in the file `roms.out` but still be printed on the screen."
   ],
   "metadata": {}
  },
  {
   "cell_type": "markdown",
   "source": [
    "## Interpreting ROMS output"
   ],
   "metadata": {}
  },
  {
   "cell_type": "markdown",
   "source": [
    "* Check minimum and maximum value of the different parameters\n",
    "```\n",
    " NLM: GET_STATE - Read state initial conditions,             t = 57235 00:00:00\n",
    "                   (Grid 02, File: roms_nest_his.nc, Rec=0182, Index=1)\n",
    "                - free-surface\n",
    "                   (Min = -4.63564634E-01 Max = -3.63838434E-01)\n",
    "```"
   ],
   "metadata": {}
  },
  {
   "cell_type": "markdown",
   "source": [
    "* The barotropic, baroclinic and Coriolis Courant number should be smaller than 1"
   ],
   "metadata": {}
  },
  {
   "cell_type": "markdown",
   "source": [
    "```\n",
    " Minimum barotropic Courant Number =  2.09670689E-02\n",
    " Maximum barotropic Courant Number =  5.56799674E-01\n",
    " Maximum Coriolis   Courant Number =  1.71574766E-03\n",
    "```"
   ],
   "metadata": {}
  },
  {
   "cell_type": "markdown",
   "source": [
    "* Information\n",
    "    * energy (kinetic, potential, total) and volume\n",
    "    * maximum Courant number"
   ],
   "metadata": {}
  },
  {
   "cell_type": "markdown",
   "source": [
    "```\n",
    "   STEP   Day HH:MM:SS  KINETIC_ENRG   POTEN_ENRG    TOTAL_ENRG    NET_VOLUME  Grid\n",
    "          C => (i,j,k)       Cu            Cv            Cw         Max Speed"
   ],
   "metadata": {}
  },
  {
   "cell_type": "markdown",
   "source": [
    " 346200 57235 00:00:00  2.691184E-03  1.043099E+04  1.043099E+04  6.221264E+13  01\n",
    "          (079,055,30)  9.266512E-02  4.949213E-02  0.000000E+00  1.081862E+00\n",
    "```"
   ],
   "metadata": {}
  },
  {
   "cell_type": "markdown",
   "source": [
    "Plot some variables like sea surface height and sea surface temperature at the beginning and the end of the simulation.\n",
    "In Julia, force figure 1 and to 2 to have the same color-bar.\n",
    "\n",
    "```julia\n",
    "figure(); p1 = pcolor(randn(3,3)); colorbar()\n",
    "figure(); p2 = pcolor(randn(3,3)); colorbar()\n",
    "p2.set_clim(p1.get_clim())\n",
    "```\n",
    "\n",
    "* If everything runs fine,\n",
    "    * is the model still stable with a longer time steps (`DT`) ?\n",
    "    * increase the number of time steps (`NTIMES`)\n",
    "    * possibly adapt the frequency at which you save the model results (`NHIS`, `NAVG`,`NRST`)"
   ],
   "metadata": {}
  },
  {
   "cell_type": "markdown",
   "source": [
    "---\n",
    "\n",
    "*This notebook was generated using [Literate.jl](https://github.com/fredrikekre/Literate.jl).*"
   ],
   "metadata": {}
  }
 ],
 "nbformat_minor": 3,
 "metadata": {
  "language_info": {
   "file_extension": ".jl",
   "mimetype": "application/julia",
   "name": "julia",
   "version": "1.11.2"
  },
  "kernelspec": {
   "name": "julia-1.11",
   "display_name": "Julia 1.11.2",
   "language": "julia"
  }
 },
 "nbformat": 4
}
