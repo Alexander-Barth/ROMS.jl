{
 "cells": [
  {
   "cell_type": "markdown",
   "source": [
    "# Regional Ocean Modeling System (ROMS)\n",
    "\n",
    "\n",
    "The Regional Ocean Modeling System (ROMS) is a free-surface, terrain-following,\n",
    "primitive equations ocean model widely used by the scientific community for\n",
    "a diverse range of applications.\n",
    "\n",
    "## Compilation\n",
    "\n",
    "The source code of ROMS is distributed via [GitHub](https://github.com/myroms/roms).\n",
    "We use version 4.1 of the ROMS code.\n",
    "The code is downloaded to the directory `~/src/roms`:"
   ],
   "metadata": {}
  },
  {
   "outputs": [],
   "cell_type": "code",
   "source": [
    "using ROMS\n",
    "\n",
    "romsdir = expanduser(\"~/src/roms\")\n",
    "if !isdir(romsdir)\n",
    "    mkpath(dirname(romsdir))\n",
    "    cd(dirname(romsdir)) do\n",
    "        run(`git clone https://github.com/myroms/roms`)\n",
    "        cd(\"roms\") do\n",
    "            run(`git checkout roms-4.1`)\n",
    "        end\n",
    "    end\n",
    "end"
   ],
   "metadata": {},
   "execution_count": null
  },
  {
   "cell_type": "markdown",
   "source": [
    "All files that are specific to a given implementation of ROMS will be\n",
    "saved in a different directory `modeldir`:"
   ],
   "metadata": {}
  },
  {
   "outputs": [],
   "cell_type": "code",
   "source": [
    "modeldir = expanduser(\"~/ROMS-implementation-test\")\n",
    "mkpath(modeldir)"
   ],
   "metadata": {},
   "execution_count": null
  },
  {
   "cell_type": "markdown",
   "source": [
    "Before we can compile ROMS we need to\n",
    "* activate diffent terms of the momentum equations\n",
    "* specify the schemes uses for advection, horizontal mixing,\n",
    "  type equation of state, ...\n",
    "\n",
    "The header files controls the compilation of the ROMS model by telling the\n",
    "compiler which part of the code needs to be compiled. If you modify this file,\n",
    "ROMS need to be recompiled."
   ],
   "metadata": {}
  },
  {
   "cell_type": "markdown",
   "source": [
    "Do not change the two first lines and the last line of the following cell.\n",
    "When you execute the cell, the header file with the specified content is\n",
    "created."
   ],
   "metadata": {}
  },
  {
   "outputs": [],
   "cell_type": "code",
   "source": [
    "header_file = joinpath(modeldir,\"liguriansea.h\")\n",
    "write(header_file,\"\"\"\n",
    "#define UV_ADV                    /* turn ON advection terms */\n",
    "#define UV_COR                    /* turn ON Coriolis term */\n",
    "#define DJ_GRADPS                 /* Splines density  Jacobian (Shchepetkin, 2000) */\n",
    "#define NONLIN_EOS                /* define if using nonlinear equation of state */\n",
    "#define SALINITY                  /* define if using salinity */\n",
    "#define SOLVE3D                   /* define if solving 3D primitive equations */\n",
    "#define MASKING                   /* define if there is land in the domain */\n",
    "#define TS_U3HADVECTION           /* Third-order upstream horizontal advection of tracers */\n",
    "#define TS_C4VADVECTION           /* Fourth-order centered vertical advection of tracers */\n",
    "#define TS_DIF2                   /* use to turn ON or OFF harmonic horizontal mixing  */\n",
    "#define MIX_S_UV                  /* mixing along constant S-surfaces */\n",
    "#define UV_VIS2                   /* turn ON Laplacian horizontal mixing */\n",
    "#define AVERAGES\n",
    "#define UV_QDRAG\n",
    "#define MIX_S_TS\n",
    "\n",
    "#define  MY25_MIXING\n",
    "#ifdef MY25_MIXING\n",
    "#define N2S2_HORAVG\n",
    "#define KANTHA_CLAYSON\n",
    "#endif\n",
    "\n",
    "#define ANA_BSFLUX                /* analytical bottom salinity flux */\n",
    "#define ANA_BTFLUX                /* analytical bottom temperature flux */\n",
    "#define ANA_SSFLUX\n",
    "\n",
    "#define BULK_FLUXES               /* turn ON bulk fluxes computation */\n",
    "#define CLOUDS\n",
    "#define LONGWAVE\n",
    "#define SOLAR_SOURCE\n",
    "\"\"\");"
   ],
   "metadata": {},
   "execution_count": null
  },
  {
   "cell_type": "markdown",
   "source": [
    "The [ROMS wiki](https://www.myroms.org/wiki/Documentation_Portal) give more information about the [compiler different options](https://www.myroms.org/wiki/Options)."
   ],
   "metadata": {}
  },
  {
   "cell_type": "markdown",
   "source": [
    "ROMS can use the MPI ([Message Passing Interface](https://en.wikipedia.org/wiki/Message_Passing_Interface)) or OpenMP ([Open Multi-Processing](https://en.wikipedia.org/wiki/OpenMP)) for parallelization (but not both at the same time):"
   ],
   "metadata": {}
  },
  {
   "outputs": [],
   "cell_type": "code",
   "source": [
    "use_mpi = true;\n",
    "#use_mpi = false;\n",
    "#use_openmp = true;\n",
    "use_openmp = false;"
   ],
   "metadata": {},
   "execution_count": null
  },
  {
   "cell_type": "markdown",
   "source": [
    "`roms_application` is a descriptive name of the domain or the particular application\n",
    "that the use can choose. We compile ROMS with the [GNU Fortran](https://en.wikipedia.org/wiki/GNU_Fortran) compiler using 8 jobs for compilation."
   ],
   "metadata": {}
  },
  {
   "outputs": [],
   "cell_type": "code",
   "source": [
    "roms_application = \"LigurianSea\"\n",
    "fortran_compiler = \"gfortran\"\n",
    "jobs = 8\n",
    "\n",
    "ROMS.build(romsdir,roms_application,modeldir;\n",
    "           jobs,\n",
    "           fortran_compiler,\n",
    "           use_openmp,\n",
    "           use_mpi)"
   ],
   "metadata": {},
   "execution_count": null
  },
  {
   "cell_type": "markdown",
   "source": [
    "## Preparation of the input file for ROMS\n",
    "\n",
    "ROMS needs several input files in the NetCDF format, in paricular:\n",
    "\n",
    "* the model grid\n",
    "* the initial conditions\n",
    "* the boundary conditions\n",
    "* the atmospheric forcing fields\n",
    "\n",
    "Optionally\n",
    "* the climatology file\n",
    "* the field defining the nudging strength\n",
    "\n",
    "This script can use multiple threads if [julia was started with multi-threading](https://docs.julialang.org/en/v1/manual/multi-threading/)\n",
    "(option `-t`/`--threads` or the environement variable `JULIA_NUM_THREADS`)"
   ],
   "metadata": {}
  },
  {
   "outputs": [],
   "cell_type": "code",
   "source": [
    "using Dates\n",
    "using ROMS\n",
    "using Downloads: download"
   ],
   "metadata": {},
   "execution_count": null
  },
  {
   "cell_type": "markdown",
   "source": [
    "### The model bathymetry"
   ],
   "metadata": {}
  },
  {
   "outputs": [],
   "cell_type": "code",
   "source": [
    "#bath_name = expanduser(\"~/Data/Bathymetry/combined_emodnet_bathymetry.nc\")\n",
    "#bath_name = expanduser(\"~/Data/Bathymetry/gebco_30sec_1.nc\")\n",
    "# longitude from 5°E to 15°E and latitude from 40°N to 45°N\n",
    "bath_name = expanduser(\"~/Data/Bathymetry/gebco_30sec_1_ligurian_sea.nc\")\n",
    "\n",
    "if !isfile(bath_name)\n",
    "    mkpath(dirname(bath_name))\n",
    "    download(\"https://dox.ulg.ac.be/index.php/s/piwSaFP3nhM8jSD/download\",bath_name)\n",
    "end"
   ],
   "metadata": {},
   "execution_count": null
  },
  {
   "cell_type": "markdown",
   "source": [
    "The time range for the simulation:\n",
    "* `t0` start time\n",
    "* `t1` end time"
   ],
   "metadata": {}
  },
  {
   "outputs": [],
   "cell_type": "code",
   "source": [
    "t0 = DateTime(2023,1,1);\n",
    "t1 = DateTime(2023,1,4);"
   ],
   "metadata": {},
   "execution_count": null
  },
  {
   "cell_type": "markdown",
   "source": [
    "Define the bounding box the of the grid"
   ],
   "metadata": {}
  },
  {
   "outputs": [],
   "cell_type": "code",
   "source": [
    "# range of longitude\n",
    "xr = [7.6, 12.2];\n",
    "\n",
    "# range of latitude\n",
    "yr = [42, 44.5];\n",
    "\n",
    "# reduce bathymetry in x and y direction\n",
    "red = (4, 4)\n",
    "\n",
    "# maximum normalized topographic variations\n",
    "rmax = 0.4;\n",
    "\n",
    "# minimal depth\n",
    "hmin = 2; # m\n",
    "\n",
    "# name of folders and files\n",
    "modeldir = expanduser(\"~/ROMS-implementation-test\")\n",
    "\n",
    "# The model grid (`GRDNAME` in roms.in)\n",
    "grd_name = joinpath(modeldir,\"roms_grd_liguriansea.nc\")"
   ],
   "metadata": {},
   "execution_count": null
  },
  {
   "cell_type": "markdown",
   "source": [
    "model specific parameters"
   ],
   "metadata": {}
  },
  {
   "outputs": [],
   "cell_type": "code",
   "source": [
    "opt = (\n",
    "    Tcline = 50,   # m\n",
    "    theta_s = 5,   # surface refinement\n",
    "    theta_b = 0.4, # bottom refinement\n",
    "    nlevels = 32,  # number of vertical levels\n",
    "    Vtransform  = 2,\n",
    "    Vstretching = 4,\n",
    ")"
   ],
   "metadata": {},
   "execution_count": null
  },
  {
   "cell_type": "markdown",
   "source": [
    "setup dir"
   ],
   "metadata": {}
  },
  {
   "outputs": [],
   "cell_type": "code",
   "source": [
    "mkpath(modeldir);\n",
    "\n",
    "domain = ROMS.generate_grid(grd_name,bath_name,xr,yr,red,opt,hmin,rmax);\n",
    "\n",
    "@info \"domain size $(size(domain.mask))\""
   ],
   "metadata": {},
   "execution_count": null
  },
  {
   "cell_type": "markdown",
   "source": [
    "### The boundary and initial conditions"
   ],
   "metadata": {}
  },
  {
   "outputs": [],
   "cell_type": "code",
   "source": [
    "# GCM interpolated on model grid (`CLMNAME` in roms.in)\n",
    "clm_name =  joinpath(modeldir,\"roms_clm_2023.nc\")\n",
    "\n",
    "# initial conditions (`ININAME` in roms.in)\n",
    "ini_name =  joinpath(modeldir,\"roms_ini_2023.nc\")\n",
    "\n",
    "# boundary conditions (`BRYNAME` in roms.in)\n",
    "bry_name =  joinpath(modeldir,\"roms_bry_2023.nc\")\n",
    "\n",
    "# temporary directory of the OGCM data\n",
    "outdir = joinpath(modeldir,\"OGCM\")\n",
    "mkpath(outdir)"
   ],
   "metadata": {},
   "execution_count": null
  },
  {
   "cell_type": "markdown",
   "source": [
    "Locate the dataset at https://marine.copernicus.eu/"
   ],
   "metadata": {}
  },
  {
   "cell_type": "markdown",
   "source": [
    "Example:\n",
    "https://doi.org/10.25423/CMCC/MEDSEA_MULTIYEAR_PHY_006_004_E3R1"
   ],
   "metadata": {}
  },
  {
   "outputs": [],
   "cell_type": "code",
   "source": [
    "product_id = \"MEDSEA_MULTIYEAR_PHY_006_004\""
   ],
   "metadata": {},
   "execution_count": null
  },
  {
   "cell_type": "markdown",
   "source": [
    "mapping the variable (CF names) with the CMEMS `dataset_id`"
   ],
   "metadata": {}
  },
  {
   "outputs": [],
   "cell_type": "code",
   "source": [
    "mapping = Dict(\n",
    "    :sea_surface_height_above_geoid => \"med-cmcc-ssh-rean-d\",\n",
    "    :sea_water_potential_temperature => \"med-cmcc-tem-rean-d\",\n",
    "    :sea_water_salinity => \"med-cmcc-sal-rean-d\",\n",
    "    :eastward_sea_water_velocity => \"med-cmcc-cur-rean-d\",\n",
    "    :northward_sea_water_velocity => \"med-cmcc-cur-rean-d\",\n",
    ")\n",
    "\n",
    "dataset = ROMS.CMEMS_zarr(product_id,mapping,outdir, time_shift = 12*60*60)"
   ],
   "metadata": {},
   "execution_count": null
  },
  {
   "cell_type": "markdown",
   "source": [
    "Extent the time range by one extra day"
   ],
   "metadata": {}
  },
  {
   "outputs": [],
   "cell_type": "code",
   "source": [
    "tr = [t0-Dates.Day(1), t1+Dates.Day(1)]\n",
    "\n",
    "ROMS.interp_clim(domain,clm_name,dataset,tr)\n",
    "\n",
    "ROMS.extract_ic(domain,clm_name,ini_name, t0);\n",
    "ROMS.extract_bc(domain,clm_name,bry_name)"
   ],
   "metadata": {},
   "execution_count": null
  },
  {
   "cell_type": "markdown",
   "source": [
    "nudging coefficient (`NUDNAME`)"
   ],
   "metadata": {}
  },
  {
   "outputs": [],
   "cell_type": "code",
   "source": [
    "tscale = 7; # days\n",
    "alpha = 0.3;\n",
    "halo = 2;\n",
    "Niter = 50\n",
    "max_tscale = 5e5\n",
    "\n",
    "nud_name = joinpath(modeldir,\"roms_nud_$(tscale)_$(Niter).nc\")\n",
    "tracer_NudgeCoef = ROMS.nudgecoef(domain,nud_name,alpha,Niter,\n",
    "          halo,tscale; max_tscale = max_tscale);"
   ],
   "metadata": {},
   "execution_count": null
  },
  {
   "cell_type": "markdown",
   "source": [
    "### The atmospheric forcings"
   ],
   "metadata": {}
  },
  {
   "cell_type": "markdown",
   "source": [
    "Prepare atmospheric forcings (`FRCNAME`)"
   ],
   "metadata": {}
  },
  {
   "outputs": [],
   "cell_type": "code",
   "source": [
    "ecmwf_fname = expanduser(\"~/Data/Atmosphere/ecmwf_operational_archive_2022-12-01_2024-02-01.nc\")\n",
    "\n",
    "if !isfile(ecmwf_fname)\n",
    "    mkpath(dirname(ecmwf_fname))\n",
    "    download(\"https://data-assimilation.net/upload/OCEA0036/ecmwf_operational_archive_2022-12-01_2024-02-01.nc\",ecmwf_fname)\n",
    "end\n",
    "\n",
    "frc_name_prefix = joinpath(modeldir,\"roms_frc_2023_\")\n",
    "domain_name = \"Ligurian Sea Region\"\n",
    "Vnames = [\"sustr\",\"svstr\",\"shflux\",\"swflux\",\"swrad\",\"Uwind\",\"Vwind\",\n",
    "    \"lwrad\",\"lwrad_down\",\"latent\",\"sensible\",\"cloud\",\"rain\",\"Pair\",\"Tair\",\"Qair\"]\n",
    "\n",
    "# forcing_filenames corresponds to `FRCNAME` in roms.in\n",
    "forcing_filenames = ROMS.prepare_ecmwf(ecmwf_fname,Vnames,frc_name_prefix,domain_name)\n",
    "\n",
    "\n",
    "fn(name) = basename(name) # use relative file path\n",
    "# fn(name) = name         # use absolute file path\n",
    "\n",
    "println()\n",
    "println(\"The created netCDF files are in $modeldir.\");\n",
    "println(\"The following information has to be added to roms.in. A template of this file is\")\n",
    "println(\"provided in the directory User/External of your ROMS source code\")\n",
    "println(\"You can also use relative or absolute file names.\")\n",
    "println()\n",
    "println(\"! grid file \")\n",
    "println(\"     GRDNAME == $(fn(grd_name))\")\n",
    "println()\n",
    "println(\"! initial conditions\")\n",
    "println(\"     ININAME == $(fn(ini_name))\")\n",
    "println()\n",
    "println(\"! boundary conditions\")\n",
    "println(\"     NBCFILES == 1\")\n",
    "println(\"     BRYNAME == $(fn(bry_name))\")\n",
    "println()\n",
    "println(\"! climatology or large-scale circulatio model\")\n",
    "println(\"     NCLMFILES == 1\")\n",
    "println(\"     CLMNAME == $(fn(clm_name))\")\n",
    "println()\n",
    "println(\"! nudging coefficients file (optional)\")\n",
    "println(\"     NUDNAME == $(fn(nud_name))\")\n",
    "println()\n",
    "println(\"! forcing files\")\n",
    "println(\"     NFFILES == $(length(Vnames))\")\n",
    "\n",
    "for i in 1:length(Vnames)\n",
    "    if i == 1\n",
    "        print(\"     FRCNAME == \")\n",
    "    else\n",
    "        print(\"                \")\n",
    "    end\n",
    "    print(\"$(fn(frc_name_prefix))$(Vnames[i]).nc\")\n",
    "    if i < length(Vnames)\n",
    "        print(\" \\\\\")\n",
    "    end\n",
    "    println()\n",
    "end"
   ],
   "metadata": {},
   "execution_count": null
  },
  {
   "cell_type": "markdown",
   "source": [
    "# Run ROMS\n",
    "\n",
    "Run ROMS with 4 CPUs splitting the domain in 2 by 2 tiles"
   ],
   "metadata": {}
  },
  {
   "outputs": [],
   "cell_type": "code",
   "source": [
    "using Dates\n",
    "using ROMS\n",
    "using ROMS: whenopen\n",
    "\n",
    "\n",
    "# create directories and configuration files\n",
    "\n",
    "romsdir = expanduser(\"~/src/roms\")\n",
    "modeldir = expanduser(\"~/ROMS-implementation-test\")\n",
    "simulationdir = joinpath(modeldir,\"Simulation1\")\n",
    "mkpath(simulationdir)\n",
    "\n",
    "\n",
    "grd_name = joinpath(modeldir,\"roms_grd_liguriansea.nc\")\n",
    "ini_name = joinpath(modeldir,\"roms_ini_2023.nc\")\n",
    "bry_name = joinpath(modeldir,\"roms_bry_2023.nc\")\n",
    "frc_name = joinpath.(modeldir,sort(filter(startswith(\"roms_frc\"),readdir(modeldir))))\n",
    "\n",
    "intemplate = joinpath(romsdir,\"User\",\"External\",\"roms.in\")\n",
    "var_name_template = joinpath(romsdir,\"ROMS\",\"External\",\"varinfo.yaml\")\n",
    "\n",
    "infile = joinpath(simulationdir,\"roms.in\")\n",
    "var_name = joinpath(simulationdir,\"varinfo.yaml\")\n",
    "\n",
    "cp(var_name_template,var_name; force=true)\n",
    "\n",
    "domain = ROMS.Grid(grd_name,opt);\n",
    "\n",
    "# time step (seconds)\n",
    "DT = 300.\n",
    "# output frequency of ROMS in time steps\n",
    "NHIS = round(Int,24*60*60 / DT)\n",
    "NRST = NAVG = NHIS\n",
    "# number of time steps\n",
    "NTIMES = floor(Int,Dates.value(t1-t0) / (DT * 1000))\n",
    "\n",
    "NtileI = 1\n",
    "NtileJ = 1\n",
    "\n",
    "substitutions = Dict(\n",
    "    \"TITLE\" => \"My test\",\n",
    "    \"NtileI\" => NtileI,\n",
    "    \"NtileJ\" => NtileJ,\n",
    "    \"TIME_REF\" => \"18581117\",\n",
    "    \"VARNAME\" => var_name,\n",
    "    \"GRDNAME\" => grd_name,\n",
    "    \"ININAME\" => ini_name,\n",
    "    \"BRYNAME\" => bry_name,\n",
    "    \"CLMNAME\" => clm_name,\n",
    "    \"NFFILES\" => length(frc_name),\n",
    "    \"FRCNAME\" => join(frc_name,\"  \\\\\\n       \"),\n",
    "    \"Vtransform\" => domain.Vtransform,\n",
    "    \"Vstretching\" => domain.Vstretching,\n",
    "    \"THETA_S\" => domain.theta_s,\n",
    "    \"THETA_B\" => domain.theta_b,\n",
    "    \"TCLINE\" => domain.Tcline,\n",
    "    \"Lm\" => size(domain.h,1)-2,\n",
    "    \"Mm\" => size(domain.h,2)-2,\n",
    "    \"N\" => domain.nlevels,\n",
    "    \"LBC(isFsur)\" => whenopen(domain,\"Cha\"),\n",
    "    \"LBC(isUbar)\" => whenopen(domain,\"Fla\"),\n",
    "    \"LBC(isVbar)\" => whenopen(domain,\"Fla\"),\n",
    "    \"LBC(isUvel)\" => whenopen(domain,\"RadNud\"),\n",
    "    \"LBC(isVvel)\" => whenopen(domain,\"RadNud\"),\n",
    "    \"LBC(isMtke)\" => whenopen(domain,\"Rad\"),\n",
    "    \"LBC(isTvar)\" => whenopen(domain,\"RadNud\") * \" \\\\\\n\" * whenopen(domain,\"RadNud\"),\n",
    "    \"DT\" => DT,\n",
    "    \"NHIS\" => NHIS,\n",
    "    \"NAVG\" => NAVG,\n",
    "    \"NRST\" => NRST,\n",
    "    \"NTIMES\" => NTIMES,\n",
    "    \"NUDNAME\" => nud_name,\n",
    "    \"TNUDG\" => \"10.0d0 10.0d0\",\n",
    "    \"LtracerCLM\" => \"T T\",\n",
    "    \"LnudgeTCLM\" => \"T T\",\n",
    "    \"OBCFAC\" => 10.0,\n",
    ")\n",
    "\n",
    "ROMS.infilereplace(intemplate,infile,substitutions)\n",
    "\n",
    "\n",
    "\n",
    "modeldir = expanduser(\"~/ROMS-implementation-test\")\n",
    "simulationdir = joinpath(modeldir,\"Simulation1\")\n",
    "\n",
    "np = NtileI*NtileJ\n",
    "\n",
    "use_mpi = true\n",
    "\n",
    "cd(simulationdir) do\n",
    "    withenv(\"OPAL_PREFIX\" => nothing) do\n",
    "        ROMS.run_model(modeldir,\"roms.in\"; use_mpi, np)\n",
    "    end\n",
    "end"
   ],
   "metadata": {},
   "execution_count": null
  },
  {
   "cell_type": "markdown",
   "source": [
    "# Plotting ROMS results and input files"
   ],
   "metadata": {}
  },
  {
   "cell_type": "markdown",
   "source": [
    "The aim here is to visualize the model files with generic plotting and analsis packages rather than to use a model specific visualization tool which hides many details and might lack of flexibility.\n",
    "The necessary files are already in the directory containing the model simulation and its\n",
    "parent direction (`ROMS-implementation-test`). Downloading the files is only needed if you did not run the simulation."
   ],
   "metadata": {}
  },
  {
   "outputs": [],
   "cell_type": "code",
   "source": [
    "grid_fname = \"LS2v.nc\"\n",
    "\n",
    "if !isfile(grid_fname)\n",
    "    download(\"https://dox.ulg.ac.be/index.php/s/J9DXhUPXbyLADJa/download\",grid_fname)\n",
    "end\n",
    "\n",
    "fname = \"roms_his.nc\"\n",
    "if !isfile(fname)\n",
    "    download(\"https://dox.ulg.ac.be/index.php/s/17UWsY7tRNMDf4w/download\",fname)\n",
    "end"
   ],
   "metadata": {},
   "execution_count": null
  },
  {
   "cell_type": "markdown",
   "source": [
    "## Bathymetry"
   ],
   "metadata": {}
  },
  {
   "cell_type": "markdown",
   "source": [
    "In this example, the bathymetry defined in the grid file is visualized. Make sure that your current working directory\n",
    "contains the file `LS2v.nc` (use e.g. `;cd ~/ROMS-implementation-test`)"
   ],
   "metadata": {}
  },
  {
   "outputs": [],
   "cell_type": "code",
   "source": [
    "using ROMS, PyPlot, NCDatasets, GeoDatasets, Statistics\n",
    "\n",
    "ds_grid = NCDataset(\"LS2v.nc\");\n",
    "lon = ds_grid[\"lon_rho\"][:,:];\n",
    "lat = ds_grid[\"lat_rho\"][:,:];\n",
    "h = nomissing(ds_grid[\"h\"][:,:],NaN);\n",
    "mask_rho = ds_grid[\"mask_rho\"][:,:];\n",
    "\n",
    "figure(figsize=(7,4))\n",
    "hmask = copy(h)\n",
    "hmask[mask_rho .== 0] .= NaN;\n",
    "pcolormesh(lon,lat,hmask);\n",
    "colorbar()\n",
    "# or colorbar(orientation=\"horizontal\")\n",
    "gca().set_aspect(1/cosd(mean(lat)))\n",
    "\n",
    "title(\"smoothed bathymetry [m]\");\n",
    "savefig(\"smoothed_bathymetry.png\");"
   ],
   "metadata": {},
   "execution_count": null
  },
  {
   "cell_type": "markdown",
   "source": [
    "## Surface temperature"
   ],
   "metadata": {}
  },
  {
   "cell_type": "markdown",
   "source": [
    "The surface surface temperature (or salinity) of the model output or\n",
    "climatology file can be visualized as follows.\n",
    "The parameter `n` is the time instance to plot.\n",
    "Make sure that your current working directory\n",
    "contains the file to plot (use e.g. `;cd ~/ROMS-implementation-test/` to plot `roms_his.nc`)"
   ],
   "metadata": {}
  },
  {
   "outputs": [],
   "cell_type": "code",
   "source": [
    "# instance to plot\n",
    "n = 1\n",
    "\n",
    "ds = NCDataset(\"roms_his.nc\")\n",
    "temp = nomissing(ds[\"temp\"][:,:,end,n],NaN);\n",
    "temp[mask_rho .== 0] .= NaN;\n",
    "\n",
    "if haskey(ds,\"time\")\n",
    "    # for the climatology file\n",
    "    time = ds[\"time\"][:]\n",
    "else\n",
    "    # for ROMS output\n",
    "    time = ds[\"ocean_time\"][:]\n",
    "end\n",
    "\n",
    "figure(figsize=(7,4))\n",
    "pcolormesh(lon,lat,temp)\n",
    "gca().set_aspect(1/cosd(mean(lat)))\n",
    "colorbar();\n",
    "title(\"sea surface temperature [°C]\")\n",
    "savefig(\"SST.png\");"
   ],
   "metadata": {},
   "execution_count": null
  },
  {
   "cell_type": "markdown",
   "source": [
    "Exercise:\n",
    "* Plot salinity\n",
    "* Plot different time instance (`n`)\n",
    "* Where do we specify that the surface values are to be plotted? Plot different layers."
   ],
   "metadata": {}
  },
  {
   "cell_type": "markdown",
   "source": [
    "## Surface velocity and elevation"
   ],
   "metadata": {}
  },
  {
   "outputs": [],
   "cell_type": "code",
   "source": [
    "zeta = nomissing(ds[\"zeta\"][:,:,n],NaN)\n",
    "u = nomissing(ds[\"u\"][:,:,end,n],NaN);\n",
    "v = nomissing(ds[\"v\"][:,:,end,n],NaN);\n",
    "\n",
    "mask_u = ds_grid[\"mask_u\"][:,:];\n",
    "mask_v = ds_grid[\"mask_v\"][:,:];\n",
    "\n",
    "u[mask_u .== 0] .= NaN;\n",
    "v[mask_v .== 0] .= NaN;\n",
    "zeta[mask_rho .== 0] .= NaN;\n",
    "\n",
    "# ROMS uses an Arakawa C grid\n",
    "u_r = cat(u[1:1,:], (u[2:end,:] .+ u[1:end-1,:])/2, u[end:end,:], dims=1);\n",
    "v_r = cat(v[:,1:1], (v[:,2:end] .+ v[:,1:end-1])/2, v[:,end:end], dims=2);\n",
    "\n",
    "# all sizes should be the same\n",
    "size(u_r), size(v_r), size(mask_rho)\n",
    "\n",
    "figure(figsize=(7,4))\n",
    "pcolormesh(lon,lat,zeta)\n",
    "colorbar();\n",
    "# plot only a single arrow for r x r grid cells\n",
    "r = 3;\n",
    "i = 1:r:size(lon,1);\n",
    "j = 1:r:size(lon,2);\n",
    "q = quiver(lon[i,j],lat[i,j],u_r[i,j],v_r[i,j])\n",
    "quiverkey(q,0.9,0.85,1,\"1 m/s\",coordinates=\"axes\")\n",
    "title(\"surface currents [m/s] and elevation [m]\");\n",
    "gca().set_aspect(1/cosd(mean(lat)))\n",
    "savefig(\"surface_zeta_uv.png\");"
   ],
   "metadata": {},
   "execution_count": null
  },
  {
   "cell_type": "markdown",
   "source": [
    "Exercise:\n",
    "* The surface currents seems to follow lines of constant surface elevation. Explain why this is to be expected."
   ],
   "metadata": {}
  },
  {
   "cell_type": "markdown",
   "source": [
    "## Vertical section"
   ],
   "metadata": {}
  },
  {
   "cell_type": "markdown",
   "source": [
    "In this example we will plot a vertical section by slicing the\n",
    "model output at a given index."
   ],
   "metadata": {}
  },
  {
   "cell_type": "markdown",
   "source": [
    "It is very important that the parameters (`opt`) defining the vertical layer match the parameters values choosen when ROMS was setup."
   ],
   "metadata": {}
  },
  {
   "outputs": [],
   "cell_type": "code",
   "source": [
    "opt = (\n",
    "    Tcline = 50,   # m\n",
    "    theta_s = 5,   # surface refinement\n",
    "    theta_b = 0.4, # bottom refinement\n",
    "    nlevels = 32,  # number of vertical levels\n",
    "    Vtransform  = 2,\n",
    "    Vstretching = 4,\n",
    ")\n",
    "\n",
    "hmin = minimum(h)\n",
    "hc = min(hmin,opt.Tcline)\n",
    "z_r = ROMS.set_depth(opt.Vtransform, opt.Vstretching,\n",
    "                   opt.theta_s, opt.theta_b, hc, opt.nlevels,\n",
    "                   1, h);\n",
    "\n",
    "temp = nomissing(ds[\"temp\"][:,:,:,n],NaN);\n",
    "\n",
    "mask3 = repeat(mask_rho,inner=(1,1,opt.nlevels))\n",
    "lon3 = repeat(lon,inner=(1,1,opt.nlevels))\n",
    "lat3 = repeat(lat,inner=(1,1,opt.nlevels))\n",
    "\n",
    "temp[mask3 .== 0] .= NaN;\n",
    "\n",
    "i = 20;\n",
    "\n",
    "clf()\n",
    "contourf(lat3[i,:,:],z_r[i,:,:],temp[i,:,:],40)\n",
    "ylim(-300,0);\n",
    "xlabel(\"latitude\")\n",
    "ylabel(\"depth [m]\")\n",
    "title(\"temperature at $(round(lon[i,1],sigdigits=4)) °E\")\n",
    "colorbar();\n",
    "\n",
    "# inset plot\n",
    "ax2 = gcf().add_axes([0.1,0.18,0.4,0.3])\n",
    "ax2.pcolormesh(lon,lat,temp[:,:,end])\n",
    "ax2.set_aspect(1/cosd(mean(lat)))\n",
    "ax2.plot(lon[i,[1,end]],lat[i,[1,end]],\"m\")\n",
    "\n",
    "savefig(\"temp_section1.png\");"
   ],
   "metadata": {},
   "execution_count": null
  },
  {
   "cell_type": "markdown",
   "source": [
    "Exercise:\n",
    "* Plot a section at different longitude and latitude"
   ],
   "metadata": {}
  },
  {
   "cell_type": "markdown",
   "source": [
    "## Horizontal section"
   ],
   "metadata": {}
  },
  {
   "cell_type": "markdown",
   "source": [
    "A horizontal at the fixed depth of 200 m is extracted and plotted."
   ],
   "metadata": {}
  },
  {
   "outputs": [],
   "cell_type": "code",
   "source": [
    "tempi = ROMS.model_interp3(lon,lat,z_r,temp,lon,lat,[-200])\n",
    "mlon,mlat,mdata = GeoDatasets.landseamask(resolution='f', grid=1.25)\n",
    "\n",
    "figure(figsize=(7,4))\n",
    "pcolormesh(lon,lat,tempi[:,:,1])\n",
    "colorbar();\n",
    "ax = axis()\n",
    "contourf(mlon,mlat,mdata',[0.5, 3],colors=[\"gray\"])\n",
    "axis(ax)\n",
    "gca().set_aspect(1/cosd(mean(lat)))\n",
    "title(\"temperature at 200 m [°C]\")\n",
    "savefig(\"temp_hsection_200.png\");"
   ],
   "metadata": {},
   "execution_count": null
  },
  {
   "cell_type": "markdown",
   "source": [
    "## Arbitrary vertical section"
   ],
   "metadata": {}
  },
  {
   "cell_type": "markdown",
   "source": [
    "The vectors `section_lon` and `section_lat` define the coordinates where we want to extract\n",
    "the surface temperature."
   ],
   "metadata": {}
  },
  {
   "outputs": [],
   "cell_type": "code",
   "source": [
    "section_lon = LinRange(8.18, 8.7,100);\n",
    "section_lat = LinRange(43.95, 43.53,100);\n",
    "\n",
    "using Interpolations\n",
    "\n",
    "function section_interp(v)\n",
    "    itp = interpolate((lon[:,1],lat[1,:]),v,Gridded(Linear()))\n",
    "    return itp.(section_lon,section_lat)\n",
    "end\n",
    "\n",
    "section_temp = mapslices(section_interp,temp,dims=(1,2))\n",
    "section_z = mapslices(section_interp,z_r,dims=(1,2))\n",
    "\n",
    "section_x = repeat(section_lon,inner=(1,size(temp,3)))\n",
    "\n",
    "clf()\n",
    "contourf(section_x,section_z[:,1,:],section_temp[:,1,:],50)\n",
    "ylim(-500,0)\n",
    "colorbar()\n",
    "xlabel(\"longitude\")\n",
    "ylabel(\"depth\")\n",
    "title(\"temperature section [°C]\");\n",
    "\n",
    "# inset plot\n",
    "ax2 = gcf().add_axes([0.4,0.2,0.4,0.3])\n",
    "ax2.pcolormesh(lon,lat,temp[:,:,end])\n",
    "axis(\"on\")\n",
    "ax2.set_aspect(1/cosd(mean(lat)))\n",
    "ax2.plot(section_lon,section_lat,\"m\")\n",
    "\n",
    "savefig(\"temp_vsection.png\");"
   ],
   "metadata": {},
   "execution_count": null
  },
  {
   "cell_type": "markdown",
   "source": [
    "---\n",
    "\n",
    "*This notebook was generated using [Literate.jl](https://github.com/fredrikekre/Literate.jl).*"
   ],
   "metadata": {}
  }
 ],
 "nbformat_minor": 3,
 "metadata": {
  "language_info": {
   "file_extension": ".jl",
   "mimetype": "application/julia",
   "name": "julia",
   "version": "1.11.2"
  },
  "kernelspec": {
   "name": "julia-1.11",
   "display_name": "Julia 1.11.2",
   "language": "julia"
  }
 },
 "nbformat": 4
}
