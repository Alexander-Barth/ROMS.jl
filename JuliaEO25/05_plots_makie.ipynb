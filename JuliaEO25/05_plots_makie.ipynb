{
 "cells": [
  {
   "cell_type": "markdown",
   "source": [
    "# Plotting ROMS results and input files"
   ],
   "metadata": {}
  },
  {
   "cell_type": "markdown",
   "source": [
    "The aim here is to visualize the model files with generic plotting and analsis packages rather than to use a model specific visualization tool which hides many details and might lack of flexibility.\n",
    "The necessary files are already in the directory containing the model simulation and its\n",
    "parent direction (`ROMS-implementation-test`). Downloading the files is only needed if you did not run the simulation."
   ],
   "metadata": {}
  },
  {
   "outputs": [],
   "cell_type": "code",
   "source": [
    "grd_name = \"roms_grd_liguriansea.nc\"\n",
    "\n",
    "if !isfile(grd_name)\n",
    "    download(\"https://dox.ulg.ac.be/index.php/s/J9DXhUPXbyLADJa/download\",grd_name)\n",
    "end\n",
    "\n",
    "fname = \"roms_his.nc\"\n",
    "if !isfile(fname)\n",
    "    download(\"https://dox.ulg.ac.be/index.php/s/17UWsY7tRNMDf4w/download\",fname)\n",
    "end"
   ],
   "metadata": {},
   "execution_count": null
  },
  {
   "cell_type": "markdown",
   "source": [
    "## Bathymetry"
   ],
   "metadata": {}
  },
  {
   "cell_type": "markdown",
   "source": [
    "In this example, the bathymetry defined in the grid file is visualized. Make sure that your current working directory\n",
    "contains the file `roms_grd_liguriansea.nc` (use e.g. `;cd ~/ROMS-implementation-test`)"
   ],
   "metadata": {}
  },
  {
   "outputs": [],
   "cell_type": "code",
   "source": [
    "using ROMS, NCDatasets, GeoDatasets, Statistics\n",
    "using CairoMakie # GeoMakie, GLMakie\n",
    "using CairoMakie: Point2f0\n",
    "\n",
    "ds_grid = NCDataset(\"roms_grd_liguriansea.nc\");\n",
    "lon = ds_grid[\"lon_rho\"][:,:];\n",
    "lat = ds_grid[\"lat_rho\"][:,:];\n",
    "h = ds_grid[\"h\"][:,:]\n",
    "mask_rho = ds_grid[\"mask_rho\"][:,:];\n",
    "\n",
    "hmask = copy(h)\n",
    "hmask[mask_rho .== 0] .= missing;\n",
    "\n",
    "fig = Figure();\n",
    "ga = Axis(fig[1, 1]; title = \"smoothed bathymetry [m]\",\n",
    "         aspect = AxisAspect(1/cosd(mean(lat))));\n",
    "surf = surface!(ga,lon,lat,hmask, shading = NoShading, interpolate = false);\n",
    "Colorbar(fig[1,2],surf)\n",
    "xlims!(ga,extrema(lon))\n",
    "ylims!(ga,extrema(lat))\n",
    "save(\"smoothed_bathymetry_makie.png\",fig); nothing # hide"
   ],
   "metadata": {},
   "execution_count": null
  },
  {
   "cell_type": "markdown",
   "source": [
    "## Surface temperature"
   ],
   "metadata": {}
  },
  {
   "cell_type": "markdown",
   "source": [
    "The surface surface temperature (or salinity) of the model output or\n",
    "climatology file can be visualized as follows.\n",
    "The parameter `n` is the time instance to plot.\n",
    "Make sure that your current working directory\n",
    "contains the file to plot (use e.g. `;cd ~/ROMS-implementation-test/` to plot `roms_his.nc`)"
   ],
   "metadata": {}
  },
  {
   "outputs": [],
   "cell_type": "code",
   "source": [
    "# instance to plot\n",
    "n = 1\n",
    "\n",
    "ds = NCDataset(\"roms_his.nc\")\n",
    "temp = ds[\"temp\"][:,:,end,n]\n",
    "temp[mask_rho .== 0] .= missing;\n",
    "\n",
    "if haskey(ds,\"time\")\n",
    "    # for the climatology file\n",
    "    time = ds[\"time\"][:]\n",
    "else\n",
    "    # for ROMS output\n",
    "    time = ds[\"ocean_time\"][:]\n",
    "end\n",
    "\n",
    "fig = Figure()\n",
    "ga = Axis(fig[1, 1]; title = \"sea surface temperature [degree C]\")\n",
    "surf = surface!(ga,lon,lat,temp, shading = NoShading, interpolate = false);\n",
    "Colorbar(fig[1,2],surf);\n",
    "xlims!(ga,extrema(lon))\n",
    "ylims!(ga,extrema(lat))\n",
    "save(\"SST_makie.png\",fig); nothing # hide"
   ],
   "metadata": {},
   "execution_count": null
  },
  {
   "cell_type": "markdown",
   "source": [
    "Exercise:\n",
    "* Plot salinity\n",
    "* Plot different time instance (`n`)\n",
    "* Where do we specify that the surface values are to be plotted? Plot different layers."
   ],
   "metadata": {}
  },
  {
   "cell_type": "markdown",
   "source": [
    "## Surface velocity and elevation"
   ],
   "metadata": {}
  },
  {
   "outputs": [],
   "cell_type": "code",
   "source": [
    "zeta = nomissing(ds[\"zeta\"][:,:,n],NaN)\n",
    "u = nomissing(ds[\"u\"][:,:,end,n],NaN);\n",
    "v = nomissing(ds[\"v\"][:,:,end,n],NaN);\n",
    "\n",
    "mask_u = ds_grid[\"mask_u\"][:,:];\n",
    "mask_v = ds_grid[\"mask_v\"][:,:];\n",
    "\n",
    "u[mask_u .== 0] .= NaN;\n",
    "v[mask_v .== 0] .= NaN;\n",
    "zeta[mask_rho .== 0] .= NaN;\n",
    "\n",
    "# ROMS uses an Arakawa C grid\n",
    "u_r = cat(u[1:1,:], (u[2:end,:] .+ u[1:end-1,:])/2, u[end:end,:], dims=1);\n",
    "v_r = cat(v[:,1:1], (v[:,2:end] .+ v[:,1:end-1])/2, v[:,end:end], dims=2);\n",
    "\n",
    "# all sizes should be the same\n",
    "size(u_r), size(v_r), size(mask_rho)\n",
    "\n",
    "fig = Figure();\n",
    "ga = Axis(fig[1, 1]; title = \"surface currents [m/s] and elevation [m]\",\n",
    "         aspect = AxisAspect(1/cosd(mean(lat))));\n",
    "surf = surface!(ga,lon,lat,zeta, shading = NoShading, interpolate = false);\n",
    "Colorbar(fig[1,2],surf);\n",
    "# plot only a single arrow for r x r grid cells\n",
    "r = 3;\n",
    "i = 1:r:size(lon,1);\n",
    "j = 1:r:size(lon,2);\n",
    "s = 0.6;\n",
    "arrows!(ga,lon[i,j][:],lat[i,j][:],s*u_r[i,j][:],s*v_r[i,j][:]);\n",
    "i=j=5;\n",
    "arrows!(ga,[11],[44],[s*1],[0]);\n",
    "text!(ga,[11],[44],text=\"1 m/s\")\n",
    "xlims!(ga,extrema(lon))\n",
    "ylims!(ga,extrema(lat))\n",
    "save(\"surface_zeta_uv_makie.png\",fig); nothing # hide"
   ],
   "metadata": {},
   "execution_count": null
  },
  {
   "cell_type": "markdown",
   "source": [
    "Exercise:\n",
    "* The surface currents seems to follow lines of constant surface elevation. Explain why this is to be expected."
   ],
   "metadata": {}
  },
  {
   "cell_type": "markdown",
   "source": [
    "## Vertical section"
   ],
   "metadata": {}
  },
  {
   "cell_type": "markdown",
   "source": [
    "In this example we will plot a vertical section by slicing the\n",
    "model output at a given index."
   ],
   "metadata": {}
  },
  {
   "cell_type": "markdown",
   "source": [
    "It is very important that the parameters (`opt`) defining the vertical layer match the parameters values choosen when ROMS was setup."
   ],
   "metadata": {}
  },
  {
   "outputs": [],
   "cell_type": "code",
   "source": [
    "opt = (\n",
    "    Tcline = 50,   # m\n",
    "    theta_s = 5,   # surface refinement\n",
    "    theta_b = 0.4, # bottom refinement\n",
    "    nlevels = 32,  # number of vertical levels\n",
    "    Vtransform  = 2,\n",
    "    Vstretching = 4,\n",
    ")\n",
    "\n",
    "hmin = minimum(h)\n",
    "hc = min(hmin,opt.Tcline)\n",
    "z_r = ROMS.set_depth(opt.Vtransform, opt.Vstretching,\n",
    "                   opt.theta_s, opt.theta_b, hc, opt.nlevels,\n",
    "                   1, h);\n",
    "\n",
    "temp = nomissing(ds[\"temp\"][:,:,:,n],NaN);\n",
    "\n",
    "mask3 = repeat(mask_rho,inner=(1,1,opt.nlevels))\n",
    "lon3 = repeat(lon,inner=(1,1,opt.nlevels))\n",
    "lat3 = repeat(lat,inner=(1,1,opt.nlevels))\n",
    "\n",
    "temp[mask3 .== 0] .= NaN;\n",
    "\n",
    "i = 20;\n",
    "\n",
    "fig = Figure();\n",
    "ga = Axis(fig[1, 1]; title = \"temperature at $(round(lon[i,1],sigdigits=4)) °E\",\n",
    "          xlabel = \"latitude\",\n",
    "          ylabel = \"depth [m]\",\n",
    "          backgroundcolor=:white,\n",
    "          );\n",
    "surf = surface!(ga,lat3[i,:,:],z_r[i,:,:],temp[i,:,:],shading = NoShading, interpolate = false);\n",
    "xlims!(ga,extrema(lat3[i,:,:]))\n",
    "ylims!(ga,-300,0);\n",
    "Colorbar(fig[1,2],surf);\n",
    "ax2 = Axis(\n",
    "    fig[1, 1],\n",
    "    width = Relative(0.4),\n",
    "    height = Relative(0.3),\n",
    "    halign = 0.13,\n",
    "    valign = 0.18,\n",
    "    aspect = AxisAspect(1/cosd(mean(lat))),\n",
    "    backgroundcolor=:white);\n",
    "# inset plot\n",
    "poly!(ax2,Point2f0[(lon[1,1], lat[1,1]), (lon[1,1], lat[1,end]), (lon[end,1], lat[1,end]), (lon[end,1], lat[1,1])], color = [:white, :white, :white, :white])\n",
    "surf = surface!(ax2,lon[:,1],lat[1,:],temp[:,:,end], shading = NoShading, interpolate = false);\n",
    "#ax2.pcolormesh(lon,lat,temp[:,:,end])\n",
    "#ax2.set_aspect(1/cosd(mean(lat)))\n",
    "lines!(ax2,lon[i,[1,end]],lat[i,[1,end]],color=\"magenta\")\n",
    "xlims!(ax2,extrema(lon))\n",
    "ylims!(ax2,extrema(lat))\n",
    "\n",
    "save(\"temp_section1_makie.png\",fig);"
   ],
   "metadata": {},
   "execution_count": null
  },
  {
   "cell_type": "markdown",
   "source": [
    "Exercise:\n",
    "* Plot a section at different longitude and latitude"
   ],
   "metadata": {}
  },
  {
   "cell_type": "markdown",
   "source": [
    "## Horizontal section"
   ],
   "metadata": {}
  },
  {
   "cell_type": "markdown",
   "source": [
    "A horizontal at the fixed depth of 200 m is extracted and plotted."
   ],
   "metadata": {}
  },
  {
   "outputs": [],
   "cell_type": "code",
   "source": [
    "tempi = ROMS.model_interp3(lon,lat,z_r,temp,lon,lat,[-200])\n",
    "mlon,mlat,mdata = GeoDatasets.landseamask(resolution='f', grid=1.25)\n",
    "\n",
    "ii = findall(minimum(lon) .<=  mlon .<= maximum(lon))\n",
    "jj = findall(minimum(lat) .<=  mlat .<= maximum(lat))\n",
    "\n",
    "mlon = mlon[ii]\n",
    "mlat = mlat[jj]\n",
    "mdata = mdata[ii,jj]\n",
    "\n",
    "fig = Figure();\n",
    "ga = Axis(fig[1, 1]; title = \"temperature at 200 m [°C]\",\n",
    "          xlabel = \"longitude\",\n",
    "          ylabel = \"latitude\",\n",
    "          );\n",
    "surf = surface!(ga,lon,lat,tempi[:,:,1],shading = NoShading, interpolate = false);\n",
    "Colorbar(fig[1,2],surf);\n",
    "contourf!(ga,mlon,mlat,mdata,levels=[0.5, 3],colormap=[:grey])\n",
    "xlims!(ga,extrema(lon))\n",
    "ylims!(ga,extrema(lat))\n",
    "fig\n",
    "\n",
    "save(\"temp_hsection_200_makie.png\",fig);"
   ],
   "metadata": {},
   "execution_count": null
  },
  {
   "cell_type": "markdown",
   "source": [
    "## Arbitrary vertical section"
   ],
   "metadata": {}
  },
  {
   "cell_type": "markdown",
   "source": [
    "The vectors `section_lon` and `section_lat` define the coordinates where we want to extract\n",
    "the surface temperature."
   ],
   "metadata": {}
  },
  {
   "outputs": [],
   "cell_type": "code",
   "source": [
    "section_lon = LinRange(8.18, 8.7,100);\n",
    "section_lat = LinRange(43.95, 43.53,100);\n",
    "\n",
    "using Interpolations\n",
    "\n",
    "function section_interp(v)\n",
    "    itp = interpolate((lon[:,1],lat[1,:]),v,Gridded(Linear()))\n",
    "    return itp.(section_lon,section_lat)\n",
    "end\n",
    "\n",
    "section_temp = mapslices(section_interp,temp,dims=(1,2))\n",
    "section_z = mapslices(section_interp,z_r,dims=(1,2))\n",
    "section_x = repeat(section_lon,inner=(1,size(temp,3)))\n",
    "\n",
    "\n",
    "fig = Figure();\n",
    "ga = Axis(fig[1, 1]; title = \"temperature section [°C]\",\n",
    "          xlabel = \"longitude\",\n",
    "          ylabel = \"depth\",\n",
    "          );\n",
    "surf = surface!(ga,section_x,section_z[:,1,:],section_temp[:,1,:],shading = NoShading, interpolate = false)\n",
    "ylims!(ga,-500,0)\n",
    "Colorbar(fig[1,2],surf);\n",
    "# inset plot\n",
    "ax2 = Axis(\n",
    "    fig[1, 1],\n",
    "    width = Relative(0.4),\n",
    "    height = Relative(0.3),\n",
    "    halign = 0.6,\n",
    "    valign = 0.18,\n",
    "    aspect = AxisAspect(1/cosd(mean(lat))),\n",
    "    backgroundcolor=:white);\n",
    "poly!(ax2,Point2f0[(lon[1,1], lat[1,1]), (lon[1,1], lat[1,end]), (lon[end,1], lat[1,end]), (lon[end,1], lat[1,1])], color = [:white, :white, :white, :white])\n",
    "surf = surface!(ax2,lon[:,1],lat[1,:],temp[:,:,end], shading = NoShading, interpolate = false);\n",
    "xlims!(ax2,extrema(lon))\n",
    "ylims!(ax2,extrema(lat))\n",
    "fig\n",
    "\n",
    "save(\"temp_vsection_makie.png\",fig);"
   ],
   "metadata": {},
   "execution_count": null
  },
  {
   "cell_type": "markdown",
   "source": [
    "---\n",
    "\n",
    "*This notebook was generated using [Literate.jl](https://github.com/fredrikekre/Literate.jl).*"
   ],
   "metadata": {}
  }
 ],
 "nbformat_minor": 3,
 "metadata": {
  "language_info": {
   "file_extension": ".jl",
   "mimetype": "application/julia",
   "name": "julia",
   "version": "1.11.2"
  },
  "kernelspec": {
   "name": "julia-1.11",
   "display_name": "Julia 1.11.2",
   "language": "julia"
  }
 },
 "nbformat": 4
}
