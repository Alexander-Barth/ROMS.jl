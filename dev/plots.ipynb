{
 "cells": [
  {
   "cell_type": "markdown",
   "source": [
    "# Plotting ROMS results and input files"
   ],
   "metadata": {}
  },
  {
   "cell_type": "markdown",
   "source": [
    "The aim here is to visualize the model files with generic plotting and analsis packages rather than to use a model specific visualization tool which hides many details and might lack of flexibility.\n",
    "The necessary files are already in the directory containing the model simulation and its\n",
    "parent direction (`ROMS-implementation-test`). Downloading the files is only needed if you did not run the simulation."
   ],
   "metadata": {}
  },
  {
   "outputs": [],
   "cell_type": "code",
   "source": [
    "grid_fname = \"LS2v.nc\"\n",
    "\n",
    "if !isfile(grid_fname)\n",
    "    download(\"https://dox.ulg.ac.be/index.php/s/J9DXhUPXbyLADJa/download\",grid_fname)\n",
    "end\n",
    "\n",
    "fname = \"roms_his.nc\"\n",
    "if !isfile(fname)\n",
    "    download(\"https://dox.ulg.ac.be/index.php/s/17UWsY7tRNMDf4w/download\",fname)\n",
    "end"
   ],
   "metadata": {},
   "execution_count": null
  },
  {
   "cell_type": "markdown",
   "source": [
    "## Bathymetry"
   ],
   "metadata": {}
  },
  {
   "cell_type": "markdown",
   "source": [
    "In this example, the bathymetry defined in the grid file is visualized. Make sure that your current working directory\n",
    "contains the file `LS2v.nc` (use e.g. `;cd ~/ROMS-implementation-test`)"
   ],
   "metadata": {}
  },
  {
   "outputs": [],
   "cell_type": "code",
   "source": [
    "using ROMS, PyPlot, NCDatasets, GeoDatasets, Statistics\n",
    "\n",
    "ds_grid = NCDataset(\"LS2v.nc\");\n",
    "lon = ds_grid[\"lon_rho\"][:,:];\n",
    "lat = ds_grid[\"lat_rho\"][:,:];\n",
    "h = nomissing(ds_grid[\"h\"][:,:],NaN);\n",
    "mask_rho = ds_grid[\"mask_rho\"][:,:];\n",
    "\n",
    "figure(figsize=(7,4))\n",
    "hmask = copy(h)\n",
    "hmask[mask_rho .== 0] .= NaN;\n",
    "pcolormesh(lon,lat,hmask);\n",
    "colorbar()\n",
    "# or colorbar(orientation=\"horizontal\")\n",
    "gca().set_aspect(1/cosd(mean(lat)))\n",
    "\n",
    "title(\"smoothed bathymetry [m]\");\n",
    "savefig(\"smoothed_bathymetry.png\");"
   ],
   "metadata": {},
   "execution_count": null
  },
  {
   "cell_type": "markdown",
   "source": [
    "![](smoothed_bathymetry.png)"
   ],
   "metadata": {}
  },
  {
   "cell_type": "markdown",
   "source": [
    "## Surface temperature"
   ],
   "metadata": {}
  },
  {
   "cell_type": "markdown",
   "source": [
    "The surface surface temperature (or salinity) of the model output or\n",
    "climatology file can be visualized as follows.\n",
    "The parameter `n` is the time instance to plot.\n",
    "Make sure that your current working directory\n",
    "contains the file to plot (use e.g. `;cd ~/ROMS-implementation-test/` to plot `roms_his.nc`)"
   ],
   "metadata": {}
  },
  {
   "outputs": [],
   "cell_type": "code",
   "source": [
    "# instance to plot\n",
    "n = 1\n",
    "\n",
    "ds = NCDataset(\"roms_his.nc\")\n",
    "temp = nomissing(ds[\"temp\"][:,:,end,n],NaN);\n",
    "temp[mask_rho .== 0] .= NaN;\n",
    "\n",
    "if haskey(ds,\"time\")\n",
    "    # for the climatology file\n",
    "    time = ds[\"time\"][:]\n",
    "else\n",
    "    # for ROMS output\n",
    "    time = ds[\"ocean_time\"][:]\n",
    "end\n",
    "\n",
    "clf();\n",
    "pcolormesh(lon,lat,temp)\n",
    "gca().set_aspect(1/cosd(mean(lat)))\n",
    "colorbar();\n",
    "title(\"sea surface temperature [°C]\")\n",
    "savefig(\"SST.png\");"
   ],
   "metadata": {},
   "execution_count": null
  },
  {
   "cell_type": "markdown",
   "source": [
    "![](SST.png)"
   ],
   "metadata": {}
  },
  {
   "cell_type": "markdown",
   "source": [
    "Exercise:\n",
    "* Plot salinity\n",
    "* Plot different time instance (`n`)\n",
    "* Where do we specify that the surface values are to be plotted? Plot different layers."
   ],
   "metadata": {}
  },
  {
   "cell_type": "markdown",
   "source": [
    "## Surface velocity and elevation"
   ],
   "metadata": {}
  },
  {
   "outputs": [],
   "cell_type": "code",
   "source": [
    "zeta = nomissing(ds[\"zeta\"][:,:,n],NaN)\n",
    "u = nomissing(ds[\"u\"][:,:,end,n],NaN);\n",
    "v = nomissing(ds[\"v\"][:,:,end,n],NaN);\n",
    "\n",
    "mask_u = ds_grid[\"mask_u\"][:,:];\n",
    "mask_v = ds_grid[\"mask_v\"][:,:];\n",
    "\n",
    "u[mask_u .== 0] .= NaN;\n",
    "v[mask_v .== 0] .= NaN;\n",
    "zeta[mask_rho .== 0] .= NaN;\n",
    "\n",
    "# ROMS uses an Arakawa C grid\n",
    "u_r = cat(u[1:1,:], (u[2:end,:] .+ u[1:end-1,:])/2, u[end:end,:], dims=1);\n",
    "v_r = cat(v[:,1:1], (v[:,2:end] .+ v[:,1:end-1])/2, v[:,end:end], dims=2);\n",
    "\n",
    "# all sizes should be the same\n",
    "size(u_r), size(v_r), size(mask_rho)\n",
    "\n",
    "clf();\n",
    "pcolormesh(lon,lat,zeta)\n",
    "colorbar();\n",
    "# plot only a single arrow for r x r grid cells\n",
    "r = 3;\n",
    "i = 1:r:size(lon,1);\n",
    "j = 1:r:size(lon,2);\n",
    "q = quiver(lon[i,j],lat[i,j],u_r[i,j],v_r[i,j])\n",
    "quiverkey(q,0.9,0.85,1,\"1 m/s\",coordinates=\"axes\")\n",
    "title(\"surface currents [m/s] and elevation [m]\");\n",
    "gca().set_aspect(1/cosd(mean(lat)))\n",
    "savefig(\"surface_zeta_uv.png\");"
   ],
   "metadata": {},
   "execution_count": null
  },
  {
   "cell_type": "markdown",
   "source": [
    "![](surface_zeta_uv.png)"
   ],
   "metadata": {}
  },
  {
   "cell_type": "markdown",
   "source": [
    "Exercise:\n",
    "* The surface currents seems to follow lines of constant surface elevation. Explain why this is to be expected."
   ],
   "metadata": {}
  },
  {
   "cell_type": "markdown",
   "source": [
    "## Vertical section"
   ],
   "metadata": {}
  },
  {
   "cell_type": "markdown",
   "source": [
    "In this example we will plot a vertical section by slicing the\n",
    "model output at a given index."
   ],
   "metadata": {}
  },
  {
   "cell_type": "markdown",
   "source": [
    "It is very important that the parameters (`opt`) defining the vertical layer match the parameters values choosen when ROMS was setup."
   ],
   "metadata": {}
  },
  {
   "outputs": [],
   "cell_type": "code",
   "source": [
    "opt = (\n",
    "    Tcline = 50,   # m\n",
    "    theta_s = 5,   # surface refinement\n",
    "    theta_b = 0.4, # bottom refinement\n",
    "    nlevels = 32,  # number of vertical levels\n",
    "    Vtransform  = 2,\n",
    "    Vstretching = 4,\n",
    ")\n",
    "\n",
    "hmin = minimum(h)\n",
    "hc = min(hmin,opt.Tcline)\n",
    "z_r = ROMS.set_depth(opt.Vtransform, opt.Vstretching,\n",
    "                   opt.theta_s, opt.theta_b, hc, opt.nlevels,\n",
    "                   1, h);\n",
    "\n",
    "temp = nomissing(ds[\"temp\"][:,:,:,n],NaN);\n",
    "\n",
    "mask3 = repeat(mask_rho,inner=(1,1,opt.nlevels))\n",
    "lon3 = repeat(lon,inner=(1,1,opt.nlevels))\n",
    "lat3 = repeat(lat,inner=(1,1,opt.nlevels))\n",
    "\n",
    "temp[mask3 .== 0] .= NaN;\n",
    "\n",
    "i = 20;\n",
    "\n",
    "clf()\n",
    "contourf(lat3[i,:,:],z_r[i,:,:],temp[i,:,:],40)\n",
    "ylim(-300,0);\n",
    "xlabel(\"latitude\")\n",
    "ylabel(\"depth [m]\")\n",
    "title(\"temperature at $(round(lon[i,1],sigdigits=4)) °E\")\n",
    "colorbar();\n",
    "\n",
    "ax2 = gcf().add_axes([0.1,0.18,0.4,0.3]) # inset plot\n",
    "ax2.pcolormesh(lon,lat,temp[:,:,end])\n",
    "ax2.set_aspect(1/cosd(mean(lat)))\n",
    "ax2.plot(lon[i,[1,end]],lat[i,[1,end]],\"m\")\n",
    "\n",
    "savefig(\"temp_section1.png\");"
   ],
   "metadata": {},
   "execution_count": null
  },
  {
   "cell_type": "markdown",
   "source": [
    "![temp_section1](temp_section1.png)"
   ],
   "metadata": {}
  },
  {
   "cell_type": "markdown",
   "source": [
    "Exercise:\n",
    "* Plot a section at different longitude and latitude"
   ],
   "metadata": {}
  },
  {
   "cell_type": "markdown",
   "source": [
    "## Horizontal section"
   ],
   "metadata": {}
  },
  {
   "cell_type": "markdown",
   "source": [
    "A horizontal at the fixed depth of 200 m is extracted and plotted."
   ],
   "metadata": {}
  },
  {
   "outputs": [],
   "cell_type": "code",
   "source": [
    "tempi = ROMS.model_interp3(lon,lat,z_r,temp,lon,lat,[-200])\n",
    "mlon,mlat,mdata = GeoDatasets.landseamask(resolution='f', grid=1.25)\n",
    "\n",
    "clf();\n",
    "pcolormesh(lon,lat,tempi[:,:,1])\n",
    "colorbar();\n",
    "ax = axis()\n",
    "contourf(mlon,mlat,mdata',[0.5, 3],colors=[\"gray\"])\n",
    "axis(ax)\n",
    "gca().set_aspect(1/cosd(mean(lat)))\n",
    "title(\"temperature at 200 m [°C]\")\n",
    "savefig(\"temp_hsection_200.png\");"
   ],
   "metadata": {},
   "execution_count": null
  },
  {
   "cell_type": "markdown",
   "source": [
    "![](temp_hsection_200.png)"
   ],
   "metadata": {}
  },
  {
   "cell_type": "markdown",
   "source": [
    "## Arbitrary vertical section"
   ],
   "metadata": {}
  },
  {
   "cell_type": "markdown",
   "source": [
    "The vectors `section_lon` and `section_lat` define the coordinates where we want to extract\n",
    "the surface temperature."
   ],
   "metadata": {}
  },
  {
   "outputs": [],
   "cell_type": "code",
   "source": [
    "section_lon = LinRange(8.18, 8.7,100);\n",
    "section_lat = LinRange(43.95, 43.53,100);\n",
    "\n",
    "using Interpolations\n",
    "\n",
    "function section_interp(v)\n",
    "    itp = interpolate((lon[:,1],lat[1,:]),v,Gridded(Linear()))\n",
    "    return itp.(section_lon,section_lat)\n",
    "end\n",
    "\n",
    "section_temp = mapslices(section_interp,temp,dims=(1,2))\n",
    "section_z = mapslices(section_interp,z_r,dims=(1,2))\n",
    "\n",
    "section_x = repeat(section_lon,inner=(1,size(temp,3)))\n",
    "\n",
    "clf()\n",
    "contourf(section_x,section_z[:,1,:],section_temp[:,1,:],50)\n",
    "ylim(-500,0)\n",
    "colorbar()\n",
    "xlabel(\"longitude\")\n",
    "ylabel(\"depth\")\n",
    "title(\"temperature section [°C]\");\n",
    "\n",
    "ax2 = gcf().add_axes([0.4,0.2,0.4,0.3])\n",
    "ax2.pcolormesh(lon,lat,temp[:,:,end])\n",
    "axis(\"on\")\n",
    "ax2.set_aspect(1/cosd(mean(lat)))\n",
    "ax2.plot(section_lon,section_lat,\"m\")\n",
    "\n",
    "savefig(\"temp_vsection.png\");"
   ],
   "metadata": {},
   "execution_count": null
  },
  {
   "cell_type": "markdown",
   "source": [
    "![](temp_vsection.png)"
   ],
   "metadata": {}
  },
  {
   "cell_type": "markdown",
   "source": [
    "---\n",
    "\n",
    "*This notebook was generated using [Literate.jl](https://github.com/fredrikekre/Literate.jl).*"
   ],
   "metadata": {}
  }
 ],
 "nbformat_minor": 3,
 "metadata": {
  "language_info": {
   "file_extension": ".jl",
   "mimetype": "application/julia",
   "name": "julia",
   "version": "1.11.1"
  },
  "kernelspec": {
   "name": "julia-1.11",
   "display_name": "Julia 1.11.1",
   "language": "julia"
  }
 },
 "nbformat": 4
}
